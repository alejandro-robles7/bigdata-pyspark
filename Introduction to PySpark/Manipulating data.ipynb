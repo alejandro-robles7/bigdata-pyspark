{
 "cells": [
  {
   "cell_type": "markdown",
   "metadata": {},
   "source": [
    "# Manipulating data\n",
    "In this chapter, you'll learn about the pyspark.sql module, which provides optimized data queries to your Spark session."
   ]
  },
  {
   "cell_type": "markdown",
   "metadata": {},
   "source": [
    "## Creating columns\n",
    "In this chapter, you'll learn how to use the methods defined by Spark's DataFrame class to perform common data operations.\n",
    "\n",
    "Let's look at performing column-wise operations. In Spark you can do this using the .withColumn() method, which takes two arguments. First, a string with the name of your new column, and second the new column itself.\n",
    "\n",
    "The new column must be an object of class Column. Creating one of these is as easy as extracting a column from your DataFrame using df.colName.\n",
    "\n",
    "Updating a Spark DataFrame is somewhat different than working in pandas because the Spark DataFrame is immutable. This means that it can't be changed, and so columns can't be updated in place.\n",
    "\n",
    "Thus, all these methods return a new DataFrame. To overwrite the original DataFrame you must reassign the returned DataFrame using the method like so:\n",
    "\n",
    "```python\n",
    "df = df.withColumn(\"newCol\", df.oldCol + 1)\n",
    "```\n",
    "\n",
    "The above code creates a DataFrame with the same columns as df plus a new column, newCol, where every entry is equal to the corresponding entry from oldCol, plus one.\n",
    "\n",
    "To overwrite an existing column, just pass the name of the column as the first argument!"
   ]
  },
  {
   "cell_type": "code",
   "execution_count": 2,
   "metadata": {},
   "outputs": [
    {
     "name": "stdout",
     "output_type": "stream",
     "text": [
      "+----+-----+---+--------+---------+--------+---------+-------+-------+------+------+----+--------+--------+----+------+\n",
      "|year|month|day|dep_time|dep_delay|arr_time|arr_delay|carrier|tailnum|flight|origin|dest|air_time|distance|hour|minute|\n",
      "+----+-----+---+--------+---------+--------+---------+-------+-------+------+------+----+--------+--------+----+------+\n",
      "|2014|   11| 24|   502.0|     -8.0|   647.0|    -36.0|     UA| N36472|  1523|   SEA| SFO|    90.0|     679| 5.0|   2.0|\n",
      "|2014|    4|  6|  1126.0|     11.0|  1720.0|     20.0|     AA| N3KDAA|  1311|   SEA| DFW|   205.0|    1660|11.0|  26.0|\n",
      "|2014|    4| 10|   959.0|     -1.0|  1310.0|    -20.0|     WN| N7812G|   761|   PDX| DEN|   118.0|     991| 9.0|  59.0|\n",
      "|2014|    1| 19|  1255.0|     -5.0|  1803.0|    -14.0|     DL| N643DL|  1950|   SEA| MSP|   154.0|    1399|12.0|  55.0|\n",
      "|2014|    8|  6|  1751.0|      1.0|  2028.0|     -7.0|     WN| N7701B|   899|   SEA| SAN|   137.0|    1050|17.0|  51.0|\n",
      "+----+-----+---+--------+---------+--------+---------+-------+-------+------+------+----+--------+--------+----+------+\n",
      "only showing top 5 rows\n",
      "\n"
     ]
    }
   ],
   "source": [
    "# Don't change this file path\n",
    "file_path = \".../data/datacamp/flights\"\n",
    "\n",
    "# Read in the airports data\n",
    "flights = spark.read.parquet(file_path)\n",
    "\n",
    "# Show the head\n",
    "flights.show(5)\n",
    "\n",
    "# Add duration_hrs\n",
    "flights = flights.withColumn(\"duration_hrs\", flights.air_time / 60)"
   ]
  },
  {
   "cell_type": "markdown",
   "metadata": {},
   "source": [
    "## SQL in a nutshell\n",
    "As you move forward, it will help to have a basic understanding of SQL. A more in depth look can be found here.\n",
    "\n",
    "A SQL query returns a table derived from one or more tables contained in a database.\n",
    "\n",
    "Every SQL query is made up of commands that tell the database what you want to do with the data. The two commands that every query has to contain are SELECT and FROM.\n",
    "\n",
    "The SELECT command is followed by the columns you want in the resulting table.\n",
    "\n",
    "The FROM command is followed by the name of the table that contains those columns. The minimal SQL query is:\n",
    "\n",
    "```sql\n",
    "SELECT * FROM my_table;\n",
    "```\n",
    "\n",
    "The * selects all columns, so this returns the entire table named my_table.\n",
    "\n",
    "Similar to .withColumn(), you can do column-wise computations within a SELECT statement. For example,\n",
    "\n",
    "```sql\n",
    "SELECT origin, dest, air_time / 60 FROM flights;\n",
    "```\n",
    "returns a table with the origin, destination, and duration in hours for each flight.\n",
    "\n",
    "Another commonly used command is WHERE. This command filters the rows of the table based on some logical condition you specify. The resulting table contains the rows where your condition is true. For example, if you had a table of students and grades you could do:\n",
    "\n",
    "```sql\n",
    "SELECT * FROM students\n",
    "WHERE grade = 'A';\n",
    "```\n",
    "to select all the columns and the rows containing information about students who got As.\n",
    "\n"
   ]
  },
  {
   "cell_type": "markdown",
   "metadata": {},
   "source": [
    "## SQL in a nutshell (2)\n",
    "Another common database task is aggregation. That is, reducing your data by breaking it into chunks and summarizing each chunk.\n",
    "\n",
    "This is done in SQL using the GROUP BY command. This command breaks your data into groups and applies a function from your SELECT statement to each group.\n",
    "\n",
    "For example, if you wanted to count the number of flights from each of two origin destinations, you could use the query\n",
    "\n",
    "```sql\n",
    "SELECT COUNT(*) FROM flights\n",
    "GROUP BY origin;\n",
    "```\n",
    "GROUP BY origin tells SQL that you want the output to have a row for each unique value of the origin column. The SELECT statement selects the values you want to populate each of the columns. Here, we want to COUNT() every row in each of the groups.\n",
    "\n",
    "It's possible to GROUP BY more than one column. When you do this, the resulting table has a row for every combination of the unique values in each column. The following query counts the number of flights from SEA and PDX to every destination airport:\n",
    "\n",
    "```sql\n",
    "SELECT origin, dest, COUNT(*) FROM flights\n",
    "GROUP BY origin, dest;\n",
    "```\n",
    "The output will have a row for every combination of the values in origin and dest (i.e. a row listing each origin and destination that a flight flew to). There will also be a column with the COUNT() of all the rows in each group."
   ]
  },
  {
   "cell_type": "markdown",
   "metadata": {},
   "source": [
    "## Filtering Data\n",
    "Now that you have a bit of SQL know-how under your belt, it's easier to talk about the analogous operations using Spark DataFrames.\n",
    "\n",
    "Let's take a look at the .filter() method. As you might suspect, this is the Spark counterpart of SQL's WHERE clause. The .filter() method takes either an expression that would follow the WHERE clause of a SQL expression as a string, or a Spark Column of boolean (True/False) values.\n",
    "\n",
    "For example, the following two expressions will produce the same output:\n",
    "\n",
    "```python\n",
    "flights.filter(\"air_time > 120\").show()\n",
    "flights.filter(flights.air_time > 120).show()\n",
    "```\n",
    "Notice that in the first case, we pass a string to .filter(). In SQL, we would write this filtering task as SELECT * FROM flights WHERE air_time > 120. Spark's .filter() can accept any expression that could go in the WHEREclause of a SQL query (in this case, \"air_time > 120\"), as long as it is passed as a string. Notice that in this case, we do not reference the name of the table in the string -- as we wouldn't in the SQL request.\n",
    "\n",
    "In the second case, we actually pass a column of boolean values to .filter(). Remember that flights.air_time > 120 returns a column of boolean values that has True in place of those records in flights.air_time that are over 120, and False otherwise."
   ]
  },
  {
   "cell_type": "code",
   "execution_count": 3,
   "metadata": {},
   "outputs": [
    {
     "name": "stdout",
     "output_type": "stream",
     "text": [
      "+----+-----+---+--------+---------+--------+---------+-------+-------+------+------+----+--------+--------+----+------+------------------+\n",
      "|year|month|day|dep_time|dep_delay|arr_time|arr_delay|carrier|tailnum|flight|origin|dest|air_time|distance|hour|minute|      duration_hrs|\n",
      "+----+-----+---+--------+---------+--------+---------+-------+-------+------+------+----+--------+--------+----+------+------------------+\n",
      "|2014|    4|  6|  1126.0|     11.0|  1720.0|     20.0|     AA| N3KDAA|  1311|   SEA| DFW|   205.0|    1660|11.0|  26.0|3.4166666666666665|\n",
      "|2014|    1| 19|  1255.0|     -5.0|  1803.0|    -14.0|     DL| N643DL|  1950|   SEA| MSP|   154.0|    1399|12.0|  55.0| 2.566666666666667|\n",
      "|2014|    8|  6|  1751.0|      1.0|  2028.0|     -7.0|     WN| N7701B|   899|   SEA| SAN|   137.0|    1050|17.0|  51.0| 2.283333333333333|\n",
      "|2014|    3| 21|  1638.0|     -2.0|  1953.0|     -2.0|     AS| N566AS|   867|   SEA| OGG|   353.0|    2640|16.0|  38.0| 5.883333333333334|\n",
      "|2014|   10|  9|  1231.0|     31.0|  1511.0|     26.0|     WN| N744SW|  4395|   SEA| PHX|   140.0|    1107|12.0|  31.0|2.3333333333333335|\n",
      "+----+-----+---+--------+---------+--------+---------+-------+-------+------+------+----+--------+--------+----+------+------------------+\n",
      "only showing top 5 rows\n",
      "\n",
      "+----+-----+---+--------+---------+--------+---------+-------+-------+------+------+----+--------+--------+----+------+------------------+\n",
      "|year|month|day|dep_time|dep_delay|arr_time|arr_delay|carrier|tailnum|flight|origin|dest|air_time|distance|hour|minute|      duration_hrs|\n",
      "+----+-----+---+--------+---------+--------+---------+-------+-------+------+------+----+--------+--------+----+------+------------------+\n",
      "|2014|    4|  6|  1126.0|     11.0|  1720.0|     20.0|     AA| N3KDAA|  1311|   SEA| DFW|   205.0|    1660|11.0|  26.0|3.4166666666666665|\n",
      "|2014|    1| 19|  1255.0|     -5.0|  1803.0|    -14.0|     DL| N643DL|  1950|   SEA| MSP|   154.0|    1399|12.0|  55.0| 2.566666666666667|\n",
      "|2014|    8|  6|  1751.0|      1.0|  2028.0|     -7.0|     WN| N7701B|   899|   SEA| SAN|   137.0|    1050|17.0|  51.0| 2.283333333333333|\n",
      "|2014|    3| 21|  1638.0|     -2.0|  1953.0|     -2.0|     AS| N566AS|   867|   SEA| OGG|   353.0|    2640|16.0|  38.0| 5.883333333333334|\n",
      "|2014|   10|  9|  1231.0|     31.0|  1511.0|     26.0|     WN| N744SW|  4395|   SEA| PHX|   140.0|    1107|12.0|  31.0|2.3333333333333335|\n",
      "+----+-----+---+--------+---------+--------+---------+-------+-------+------+------+----+--------+--------+----+------+------------------+\n",
      "only showing top 5 rows\n",
      "\n"
     ]
    }
   ],
   "source": [
    "# Filter flights by passing a string\n",
    "long_flights1 = flights.filter(\"distance > 1000\")\n",
    "\n",
    "# Filter flights by passing a column of boolean values\n",
    "long_flights2 = flights.filter(flights.distance > 1000)\n",
    "\n",
    "# Print the data to check they're equal\n",
    "long_flights1.show(5)\n",
    "long_flights2.show(5)"
   ]
  },
  {
   "cell_type": "markdown",
   "metadata": {},
   "source": [
    "# Selecting\n",
    "The Spark variant of SQL's SELECT is the .select() method. This method takes multiple arguments - one for each column you want to select. These arguments can either be the column name as a string (one for each column) or a column object (using the df.colName syntax). When you pass a column object, you can perform operations like addition or subtraction on the column to change the data contained in it, much like inside .withColumn().\n",
    "\n",
    "The difference between .select() and .withColumn() methods is that .select() returns only the columns you specify, while .withColumn() returns all the columns of the DataFrame in addition to the one you defined. It's often a good idea to drop columns you don't need at the beginning of an operation so that you're not dragging around extra data as you're wrangling. In this case, you would use .select() and not .withColumn().\n",
    "\n",
    "Remember, a SparkSession called spark is already in your workspace, along with the Spark DataFrame flights."
   ]
  },
  {
   "cell_type": "code",
   "execution_count": 4,
   "metadata": {},
   "outputs": [],
   "source": [
    "# Select the first set of columns\n",
    "selected1 = flights.select(\"tailnum\", \"origin\", \"dest\")\n",
    "\n",
    "# Select the second set of columns\n",
    "temp = flights.select(flights.origin, flights.dest, flights.carrier)\n",
    "\n",
    "# Define first filter\n",
    "filterA = flights.origin == \"SEA\"\n",
    "\n",
    "# Define second filter\n",
    "filterB = flights.dest == \"PDX\"\n",
    "\n",
    "# Filter the data, first by filterA then by filterB\n",
    "selected2 = temp.filter(filterA).filter(filterB)"
   ]
  },
  {
   "cell_type": "markdown",
   "metadata": {},
   "source": [
    "## Selecting II\n",
    "Similar to SQL, you can also use the .select() method to perform column-wise operations. When you're selecting a column using the df.colName notation, you can perform any column operation and the .select() method will return the transformed column. For example,\n",
    "\n",
    "```python\n",
    "flights.select(flights.air_time/60)\n",
    "```\n",
    "\n",
    "returns a column of flight durations in hours instead of minutes. You can also use the .alias() method to rename a column you're selecting. So if you wanted to .select() the column duration_hrs (which isn't in your DataFrame) you could do\n",
    "\n",
    "```python\n",
    "flights.select((flights.air_time/60).alias(\"duration_hrs\"))\n",
    "```\n",
    "\n",
    "The equivalent Spark DataFrame method .selectExpr() takes SQL expressions as a string:\n",
    "\n",
    "flights.selectExpr(\"air_time/60 as duration_hrs\")\n",
    "with the SQL as keyword being equivalent to the .alias() method. To select multiple columns, you can pass multiple strings."
   ]
  },
  {
   "cell_type": "code",
   "execution_count": 5,
   "metadata": {},
   "outputs": [],
   "source": [
    "# Define avg_speed\n",
    "avg_speed = (flights.distance/(flights.air_time/60)).alias(\"avg_speed\")\n",
    "\n",
    "# Select the correct columns\n",
    "speed1 = flights.select(\"origin\", \"dest\", \"tailnum\", avg_speed)\n",
    "\n",
    "# Create the same table using a SQL expression\n",
    "speed2 = flights.selectExpr(\"origin\", \"dest\", \"tailnum\", \"distance/(air_time/60) as avg_speed\")"
   ]
  },
  {
   "cell_type": "markdown",
   "metadata": {},
   "source": [
    "## Aggregating\n",
    "All of the common aggregation methods, like .min(), .max(), and .count() are GroupedData methods. These are created by calling the .groupBy() DataFrame method. You'll learn exactly what that means in a few exercises. For now, all you have to do to use these functions is call that method on your DataFrame. For example, to find the minimum value of a column, col, in a DataFrame, df, you could do\n",
    "```python\n",
    "df.groupBy().min(\"col\").show()\n",
    "```\n",
    "This creates a GroupedData object (so you can use the .min() method), then finds the minimum value in col, and returns it as a DataFrame."
   ]
  },
  {
   "cell_type": "code",
   "execution_count": 6,
   "metadata": {},
   "outputs": [
    {
     "name": "stdout",
     "output_type": "stream",
     "text": [
      "+-------------+\n",
      "|min(distance)|\n",
      "+-------------+\n",
      "|          106|\n",
      "+-------------+\n",
      "\n",
      "+-------------+\n",
      "|max(air_time)|\n",
      "+-------------+\n",
      "|          NaN|\n",
      "+-------------+\n",
      "\n"
     ]
    }
   ],
   "source": [
    "# Find the shortest flight from PDX in terms of distance\n",
    "flights.filter(flights.origin == \"PDX\").groupBy().min(\"distance\").show(5)\n",
    "\n",
    "# Find the longest flight from SEA in terms of air time\n",
    "flights.filter(flights.origin == \"SEA\").groupBy().max(\"air_time\").show(5)"
   ]
  },
  {
   "cell_type": "markdown",
   "metadata": {},
   "source": [
    "## Aggregating II\n",
    "To get you familiar with more of the built in aggregation methods, here's a few more exercises involving the flights table!"
   ]
  },
  {
   "cell_type": "code",
   "execution_count": 7,
   "metadata": {},
   "outputs": [
    {
     "name": "stdout",
     "output_type": "stream",
     "text": [
      "+-------------+\n",
      "|avg(air_time)|\n",
      "+-------------+\n",
      "|          NaN|\n",
      "+-------------+\n",
      "\n",
      "+-----------------+\n",
      "|sum(duration_hrs)|\n",
      "+-----------------+\n",
      "|              NaN|\n",
      "+-----------------+\n",
      "\n"
     ]
    }
   ],
   "source": [
    "# Average duration of Delta flights\n",
    "flights.filter(flights.carrier == \"DL\").filter(flights.origin == \"SEA\").groupBy().avg(\"air_time\").show(5)\n",
    "\n",
    "# Total hours in the air\n",
    "flights.withColumn(\"duration_hrs\", flights.air_time/60).groupBy().sum(\"duration_hrs\").show(5)"
   ]
  },
  {
   "cell_type": "markdown",
   "metadata": {},
   "source": [
    "## Grouping and Aggregating I\n",
    "Part of what makes aggregating so powerful is the addition of groups. PySpark has a whole class devoted to grouped data frames: pyspark.sql.GroupedData, which you saw in the last two exercises.\n",
    "\n",
    "You've learned how to create a grouped DataFrame by calling the .groupBy() method on a DataFrame with no arguments.\n",
    "\n",
    "Now you'll see that when you pass the name of one or more columns in your DataFrame to the .groupBy() method, the aggregation methods behave like when you use a GROUP BY statement in a SQL query!"
   ]
  },
  {
   "cell_type": "code",
   "execution_count": 8,
   "metadata": {},
   "outputs": [
    {
     "name": "stdout",
     "output_type": "stream",
     "text": [
      "+-------+-----+\n",
      "|tailnum|count|\n",
      "+-------+-----+\n",
      "| N369SW|    6|\n",
      "| N767SK|    1|\n",
      "| N929SW|    2|\n",
      "| N770SA|    5|\n",
      "| N521UW|    1|\n",
      "+-------+-----+\n",
      "only showing top 5 rows\n",
      "\n",
      "+------+-------------+\n",
      "|origin|avg(air_time)|\n",
      "+------+-------------+\n",
      "|   SEA|          NaN|\n",
      "|   PDX|          NaN|\n",
      "+------+-------------+\n",
      "\n"
     ]
    }
   ],
   "source": [
    "# Group by tailnum\n",
    "by_plane = flights.groupBy(\"tailnum\")\n",
    "\n",
    "# Number of flights each plane made\n",
    "by_plane.count().show(5)\n",
    "\n",
    "# Group by origin\n",
    "by_origin = flights.groupBy(\"origin\")\n",
    "\n",
    "# Average duration of flights from PDX and SEA\n",
    "by_origin.avg(\"air_time\").show(5)"
   ]
  },
  {
   "cell_type": "markdown",
   "metadata": {},
   "source": [
    "## Grouping and Aggregating II\n",
    "In addition to the GroupedData methods you've already seen, there is also the .agg() method. This method lets you pass an aggregate column expression that uses any of the aggregate functions from the pyspark.sql.functions submodule.\n",
    "\n",
    "This submodule contains many useful functions for computing things like standard deviations. All the aggregation functions in this submodule take the name of a column in a GroupedData table."
   ]
  },
  {
   "cell_type": "code",
   "execution_count": 9,
   "metadata": {},
   "outputs": [
    {
     "name": "stdout",
     "output_type": "stream",
     "text": [
      "+-----+----+-------------------+\n",
      "|month|dest|     avg(dep_delay)|\n",
      "+-----+----+-------------------+\n",
      "|    7| BWI|             25.625|\n",
      "|    9| SJC|                1.6|\n",
      "|   12| TUS| -4.666666666666667|\n",
      "|    3| MCO|                7.0|\n",
      "|   12| BUR|-2.8461538461538463|\n",
      "+-----+----+-------------------+\n",
      "only showing top 5 rows\n",
      "\n",
      "+-----+----+----------------------+\n",
      "|month|dest|stddev_samp(dep_delay)|\n",
      "+-----+----+----------------------+\n",
      "|    7| BWI|     48.05930116607428|\n",
      "|    9| SJC|    11.740293129160818|\n",
      "|   12| TUS|    3.7859388972001824|\n",
      "|    3| MCO|                   NaN|\n",
      "|   12| BUR|     6.148796004722575|\n",
      "+-----+----+----------------------+\n",
      "only showing top 5 rows\n",
      "\n"
     ]
    }
   ],
   "source": [
    "# Import pyspark.sql.functions as F\n",
    "import pyspark.sql.functions as F\n",
    "\n",
    "# Group by month and dest\n",
    "by_month_dest = flights.groupBy(\"month\", \"dest\")\n",
    "\n",
    "# Average departure delay by month and destination\n",
    "by_month_dest.avg(\"dep_delay\").show(5)\n",
    "\n",
    "# Standard deviation of departure delay\n",
    "by_month_dest.agg(F.stddev(\"dep_delay\")).show(5)"
   ]
  },
  {
   "cell_type": "markdown",
   "metadata": {},
   "source": [
    "## Joining\n",
    "Another very common data operation is the join. Joins are a whole topic unto themselves, so in this course we'll just look at simple joins. If you'd like to learn more about joins, you can take a look here.\n",
    "\n",
    "A join will combine two different tables along a column that they share. This column is called the key. Examples of keys here include the tailnum and carrier columns from the flights table.\n",
    "\n",
    "For example, suppose that you want to know more information about the plane that flew a flight than just the tail number. This information isn't in the flights table because the same plane flies many different flights over the course of two years, so including this information in every row would result in a lot of duplication. To avoid this, you'd have a second table that has only one row for each plane and whose columns list all the information about the plane, including its tail number. You could call this table planes\n",
    "\n",
    "When you join the flights table to this table of airplane information, you're adding all the columns from the planes table to the flights table. To fill these columns with information, you'll look at the tail number from the flights table and find the matching one in the planes table, and then use that row to fill out all the new columns.\n",
    "\n",
    "Now you'll have a much bigger table than before, but now every row has all information about the plane that flew that flight!"
   ]
  },
  {
   "cell_type": "markdown",
   "metadata": {},
   "source": [
    "## Joining II\n",
    "In PySpark, joins are performed using the DataFrame method .join(). This method takes three arguments. The first is the second DataFrame that you want to join with the first one. The second argument, on, is the name of the key column(s) as a string. The names of the key column(s) must be the same in each table. The third argument, how, specifies the kind of join to perform. In this course we'll always use the value how=\"leftouter\"."
   ]
  },
  {
   "cell_type": "code",
   "execution_count": 12,
   "metadata": {},
   "outputs": [],
   "source": [
    "from pandas import read_csv\n",
    "\n",
    "def read_pandas_export_parquet(name, npartitions=10):\n",
    "    spark.createDataFrame(read_csv(f\"../data/{name}.csv\")).coalesce(npartitions) \\\n",
    "        .write.mode('overwrite') \\\n",
    "        .parquet(f\".../data/datacamp/{name}\")"
   ]
  },
  {
   "cell_type": "code",
   "execution_count": 14,
   "metadata": {},
   "outputs": [
    {
     "name": "stdout",
     "output_type": "stream",
     "text": [
      "+---+--------------------+------------------+-------------------+----+---+---+\n",
      "|faa|                name|               lat|                lon| alt| tz|dst|\n",
      "+---+--------------------+------------------+-------------------+----+---+---+\n",
      "|ROC|Greater Rochester...|         43.118866|         -77.672389| 559| -5|  A|\n",
      "|ROW|Roswell Intl Air ...|         33.301556|        -104.530556|3671| -7|  A|\n",
      "|RSH|Russian Mission A...|            61.775|        -161.319444|  51| -9|  A|\n",
      "|RSJ|Rosario Seaplane ...|         48.645556|-122.86805600000001|   0| -8|  A|\n",
      "|RST|           Rochester|43.908283000000004| -92.50001400000001|1317| -6|  A|\n",
      "|RSW|Southwest Florida...|         26.536167|         -81.755167|  30| -5|  A|\n",
      "|RUT|Rutland State Air...|           43.5294|           -72.9496| 787| -5|  A|\n",
      "|RVS|Richard Lloyd Jon...|        36.0396111| -95.98463890000001| 638| -5|  A|\n",
      "|RWI|Rocky Mount Wilso...|           35.8563|           -77.8919| 159| -5|  A|\n",
      "|RWL|Rawlins Municipal...|        41.8055975|-107.19993999999998|6813| -7|  A|\n",
      "|RYY|Cobb County Airpo...|        34.0131569|        -84.5970556|1041| -5|  A|\n",
      "|S46|Port O\\\\'Connor A...|         28.429977|         -96.442859|  10| -6|  A|\n",
      "|SAA|Shively Field Air...|        41.4448594|-106.82352639999999|7012| -6|  A|\n",
      "|SAC|Sacramento Executive|         38.512524|         -121.49347|  24| -8|  A|\n",
      "|SAD|Safford Regional ...|32.853333299999996|-109.63508329999999|3179| -7|  N|\n",
      "|SAF|       Santa Fe Muni|         35.617108|        -106.089422|6348| -7|  A|\n",
      "|SAN|      San Diego Intl|         32.733556|-117.18966699999999|  17| -8|  A|\n",
      "|SAT|    San Antonio Intl|         29.533694|         -98.469778| 809| -6|  A|\n",
      "|SAV|Savannah Hilton H...|         32.127583|         -81.202139|  51| -5|  A|\n",
      "|SBA|  Santa Barbara Muni|         34.426211|        -119.840372|  10| -8|  A|\n",
      "+---+--------------------+------------------+-------------------+----+---+---+\n",
      "only showing top 20 rows\n",
      "\n",
      "None\n",
      "+----+----+-----+---+--------+---------+--------+---------+-------+-------+------+------+--------+--------+----+------+------------------+--------------------+------------------+-------------------+----+---+---+\n",
      "|dest|year|month|day|dep_time|dep_delay|arr_time|arr_delay|carrier|tailnum|flight|origin|air_time|distance|hour|minute|      duration_hrs|                name|               lat|                lon| alt| tz|dst|\n",
      "+----+----+-----+---+--------+---------+--------+---------+-------+-------+------+------+--------+--------+----+------+------------------+--------------------+------------------+-------------------+----+---+---+\n",
      "| SFO|2014|   11| 24|   502.0|     -8.0|   647.0|    -36.0|     UA| N36472|  1523|   SEA|    90.0|     679| 5.0|   2.0|               1.5|  San Francisco Intl|         37.618972|        -122.374889|  13| -8|  A|\n",
      "| DFW|2014|    4|  6|  1126.0|     11.0|  1720.0|     20.0|     AA| N3KDAA|  1311|   SEA|   205.0|    1660|11.0|  26.0|3.4166666666666665|Dallas Fort Worth...|         32.896828|         -97.037997| 607| -6|  A|\n",
      "| DEN|2014|    4| 10|   959.0|     -1.0|  1310.0|    -20.0|     WN| N7812G|   761|   PDX|   118.0|     991| 9.0|  59.0|1.9666666666666666|         Denver Intl|39.861655999999996|-104.67317800000001|5431| -7|  A|\n",
      "| MSP|2014|    1| 19|  1255.0|     -5.0|  1803.0|    -14.0|     DL| N643DL|  1950|   SEA|   154.0|    1399|12.0|  55.0| 2.566666666666667|Minneapolis St Pa...|         44.881956|         -93.221767| 841| -6|  A|\n",
      "| SAN|2014|    8|  6|  1751.0|      1.0|  2028.0|     -7.0|     WN| N7701B|   899|   SEA|   137.0|    1050|17.0|  51.0| 2.283333333333333|      San Diego Intl|         32.733556|-117.18966699999999|  17| -8|  A|\n",
      "+----+----+-----+---+--------+---------+--------+---------+-------+-------+------+------+--------+--------+----+------+------------------+--------------------+------------------+-------------------+----+---+---+\n",
      "only showing top 5 rows\n",
      "\n",
      "None\n"
     ]
    }
   ],
   "source": [
    "# Don't change this file path\n",
    "file_path = \".../data/datacamp/airports\"\n",
    "\n",
    "# Read in the airports data\n",
    "airports = spark.read.parquet(file_path)\n",
    "\n",
    "# Examine the data\n",
    "print(airports.show())\n",
    "\n",
    "# Rename the faa column\n",
    "airports = airports.withColumnRenamed(\"faa\", \"dest\")\n",
    "\n",
    "# Join the DataFrames\n",
    "flights_with_airports = flights.join(airports, on=\"dest\", how=\"leftouter\")\n",
    "\n",
    "# Examine the new DataFrame\n",
    "print(flights_with_airports.show(5))"
   ]
  }
 ],
 "metadata": {
  "kernelspec": {
   "display_name": "Python [conda env:playground_py36]",
   "language": "python",
   "name": "conda-env-playground_py36-py"
  },
  "language_info": {
   "codemirror_mode": {
    "name": "ipython",
    "version": 3
   },
   "file_extension": ".py",
   "mimetype": "text/x-python",
   "name": "python",
   "nbconvert_exporter": "python",
   "pygments_lexer": "ipython3",
   "version": "3.6.10"
  },
  "toc": {
   "base_numbering": 1,
   "nav_menu": {},
   "number_sections": false,
   "sideBar": false,
   "skip_h1_title": false,
   "title_cell": "Table of Contents",
   "title_sidebar": "Contents",
   "toc_cell": false,
   "toc_position": {},
   "toc_section_display": false,
   "toc_window_display": false
  }
 },
 "nbformat": 4,
 "nbformat_minor": 2
}
