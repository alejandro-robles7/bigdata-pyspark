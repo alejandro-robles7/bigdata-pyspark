{
 "cells": [
  {
   "cell_type": "markdown",
   "metadata": {
    "collapsed": true
   },
   "source": [
    "# What is Spark, anyway?\n",
    "Spark is a platform for cluster computing. Spark lets you spread data and computations over clusters with multiple nodes (think of each node as a separate computer). Splitting up your data makes it easier to work with very large datasets because each node only works with a small amount of data.\n",
    "\n",
    "As each node works on its own subset of the total data, it also carries out a part of the total calculations required, so that both data processing and computation are performed in parallel over the nodes in the cluster. It is a fact that parallel computation can make certain types of programming tasks much faster.\n",
    "\n",
    "However, with greater computing power comes greater complexity.\n",
    "\n",
    "Deciding whether or not Spark is the best solution for your problem takes some experience, but you can consider questions like:\n",
    "\n",
    "- Is my data too big to work with on a single machine?\n",
    "- Can my calculations be easily parallelized?\n",
    "\n",
    "\n",
    "# Using Spark in Python\n",
    "\n",
    "The first step in using Spark is connecting to a cluster.\n",
    "\n",
    "In practice, the cluster will be hosted on a remote machine that's connected to all other nodes. There will be one computer, called the master that manages splitting up the data and the computations. The master is connected to the rest of the computers in the cluster, which are called worker. The master sends the workers data and calculations to run, and they send their results back to the master.\n",
    "\n",
    "When you're just getting started with Spark it's simpler to just run a cluster locally. Thus, for this course, instead of connecting to another computer, all computations will be run on DataCamp's servers in a simulated cluster.\n",
    "\n",
    "Creating the connection is as simple as creating an instance of the SparkContext class. The class constructor takes a few optional arguments that allow you to specify the attributes of the cluster you're connecting to.\n",
    "\n",
    "An object holding all these attributes can be created with the SparkConf() constructor. Take a look at the documentation for all the details!\n",
    "\n",
    "For the rest of this course you'll have a SparkContext called sc already available in your workspace."
   ]
  },
  {
   "cell_type": "markdown",
   "metadata": {},
   "source": [
    "## Examining The SparkContext\n",
    "In this exercise you'll get familiar with the SparkContext.\n",
    "\n",
    "You'll probably notice that code takes longer to run than you might expect. This is because Spark is some serious software. It takes more time to start up than you might be used to. You may also find that running simpler computations might take longer than expected. That's because all the optimizations that Spark has under its hood are designed for complicated operations with big data sets. That means that for simple or small problems Spark may actually perform worse than some other solutions!"
   ]
  },
  {
   "cell_type": "code",
   "execution_count": 2,
   "metadata": {},
   "outputs": [
    {
     "name": "stdout",
     "output_type": "stream",
     "text": [
      "<SparkContext master=yarn-client appName=sa842-yzhao-bayer-spo-vcpm-view>\n",
      "2.4.2\n"
     ]
    }
   ],
   "source": [
    "# Verify SparkContext\n",
    "print(sc)\n",
    "\n",
    "# Print Spark version\n",
    "print(sc.version)"
   ]
  },
  {
   "cell_type": "markdown",
   "metadata": {},
   "source": [
    "# Using DataFrames\n",
    "Spark's core data structure is the Resilient Distributed Dataset (RDD). This is a low level object that lets Spark work its magic by splitting data across multiple nodes in the cluster. However, RDDs are hard to work with directly, so in this course you'll be using the Spark DataFrame abstraction built on top of RDDs.\n",
    "\n",
    "The Spark DataFrame was designed to behave a lot like a SQL table (a table with variables in the columns and observations in the rows). Not only are they easier to understand, DataFrames are also more optimized for complicated operations than RDDs.\n",
    "\n",
    "When you start modifying and combining columns and rows of data, there are many ways to arrive at the same result, but some often take much longer than others. When using RDDs, it's up to the data scientist to figure out the right way to optimize the query, but the DataFrame implementation has much of this optimization built in!\n",
    "\n",
    "To start working with Spark DataFrames, you first have to create a SparkSession object from your SparkContext. You can think of the SparkContext as your connection to the cluster and the SparkSession as your interface with that connection.\n",
    "\n",
    "Remember, for the rest of this course you'll have a SparkSession called spark available in your workspace!"
   ]
  },
  {
   "cell_type": "markdown",
   "metadata": {},
   "source": [
    "## Creating a SparkSession\n",
    "We've already created a SparkSession for you called spark, but what if you're not sure there already is one? Creating multiple SparkSessions and SparkContexts can cause issues, so it's best practice to use the SparkSession.builder.getOrCreate() method. This returns an existing SparkSession if there's already one in the environment, or creates a new one if necessary!"
   ]
  },
  {
   "cell_type": "code",
   "execution_count": 3,
   "metadata": {},
   "outputs": [
    {
     "name": "stdout",
     "output_type": "stream",
     "text": [
      "<pyspark.sql.session.SparkSession object at 0x7f831dc47eb8>\n"
     ]
    }
   ],
   "source": [
    "# Import SparkSession from pyspark.sql\n",
    "from pyspark.sql import SparkSession\n",
    "\n",
    "# Create my_spark\n",
    "my_spark = SparkSession.builder.getOrCreate()\n",
    "\n",
    "# Print my_spark\n",
    "print(my_spark)"
   ]
  },
  {
   "cell_type": "markdown",
   "metadata": {},
   "source": [
    "## Viewing tables\n",
    "Once you've created a SparkSession, you can start poking around to see what data is in your cluster!\n",
    "\n",
    "Your SparkSession has an attribute called catalog which lists all the data inside the cluster. This attribute has a few methods for extracting different pieces of information.\n",
    "\n",
    "One of the most useful is the .listTables() method, which returns the names of all the tables in your cluster as a list."
   ]
  },
  {
   "cell_type": "code",
   "execution_count": 4,
   "metadata": {},
   "outputs": [
    {
     "name": "stdout",
     "output_type": "stream",
     "text": [
      "[]\n"
     ]
    }
   ],
   "source": [
    "# Print the tables in the catalog\n",
    "print(spark.catalog.listTables())"
   ]
  },
  {
   "cell_type": "markdown",
   "metadata": {},
   "source": [
    "## Are you query-ious?\n",
    "One of the advantages of the DataFrame interface is that you can run SQL queries on the tables in your Spark cluster. If you don't have any experience with SQL, don't worry, we'll provide you with queries! (To learn more SQL, start with our Introduction to SQL course.)\n",
    "\n",
    "As you saw in the last exercise, one of the tables in your cluster is the flights table. This table contains a row for every flight that left Portland International Airport (PDX) or Seattle-Tacoma International Airport (SEA) in 2014 and 2015.\n",
    "\n",
    "Running a query on this table is as easy as using the .sql() method on your SparkSession. This method takes a string containing the query and returns a DataFrame with the results!\n",
    "\n",
    "If you look closely, you'll notice that the table flights is only mentioned in the query, not as an argument to any of the methods. This is because there isn't a local object in your environment that holds that data, so it wouldn't make sense to pass the table as an argument.\n",
    "\n",
    "Remember, we've already created a SparkSession called spark in your workspace. (It's no longer called my_spark because we created it for you!)"
   ]
  },
  {
   "cell_type": "code",
   "execution_count": 5,
   "metadata": {},
   "outputs": [],
   "source": [
    "from pandas import read_csv\n",
    "df = read_csv(\"../data/flights_small.csv\")\n",
    "df['tailnum'] = df['tailnum'].astype(str)\n",
    "spark.createDataFrame(df).registerTempTable(\"flights\")"
   ]
  },
  {
   "cell_type": "code",
   "execution_count": 6,
   "metadata": {},
   "outputs": [
    {
     "name": "stdout",
     "output_type": "stream",
     "text": [
      "+----+-----+---+--------+---------+--------+---------+-------+-------+------+------+----+--------+--------+----+------+\n",
      "|year|month|day|dep_time|dep_delay|arr_time|arr_delay|carrier|tailnum|flight|origin|dest|air_time|distance|hour|minute|\n",
      "+----+-----+---+--------+---------+--------+---------+-------+-------+------+------+----+--------+--------+----+------+\n",
      "|2014|   11| 21|  2143.0|      5.0|   532.0|     -7.0|     UA| N53441|  1695|   SEA| EWR|   266.0|    2402|21.0|  43.0|\n",
      "|2014|    1| 23|  1915.0|      0.0|  2121.0|      6.0|     WN| N216WR|   386|   PDX| LAS|   110.0|     763|19.0|  15.0|\n",
      "|2014|    1| 29|  1921.0|     41.0|  2144.0|     41.0|     OO| N823SK|  4745|   SEA| LAS|   115.0|     867|19.0|  21.0|\n",
      "|2014|   12| 26|  1938.0|      3.0|  2140.0|    -14.0|     AS| N703AS|   598|   PDX| SAN|   108.0|     933|19.0|  38.0|\n",
      "|2014|    6| 11|  1822.0|     12.0|  2021.0|      6.0|     WN| N964WN|  4756|   SEA| OAK|   100.0|     671|18.0|  22.0|\n",
      "|2014|    7|  6|  1304.0|     -1.0|  2054.0|    -11.0|     WN| N221WN|  3776|   PDX| BWI|   275.0|    2358|13.0|   4.0|\n",
      "|2014|    1| 29|  1022.0|     -8.0|  1120.0|     -3.0|     OO| N583SW|  5397|   PDX| SEA|    46.0|     129|10.0|  22.0|\n",
      "|2014|   12| 30|  1809.0|     14.0|  2029.0|     25.0|     AS| N767AS|   302|   SEA| SFO|   102.0|     679|18.0|   9.0|\n",
      "|2014|    6|  1|   724.0|     -6.0|  1442.0|     -3.0|     DL| N374DA|   822|   SEA| DTW|   233.0|    1927| 7.0|  24.0|\n",
      "|2014|    9| 19|  1105.0|      4.0|  1925.0|      1.0|     UA| N425UA|   225|   SEA| EWR|   290.0|    2402|11.0|   5.0|\n",
      "+----+-----+---+--------+---------+--------+---------+-------+-------+------+------+----+--------+--------+----+------+\n",
      "\n"
     ]
    }
   ],
   "source": [
    "# Don't change this query\n",
    "query = \"FROM flights SELECT * LIMIT 10\"\n",
    "\n",
    "# Get the first 10 rows of flights\n",
    "flights10 = spark.sql(query)\n",
    "\n",
    "# Show the results\n",
    "flights10.show()"
   ]
  },
  {
   "cell_type": "markdown",
   "metadata": {},
   "source": [
    "## Pandafy a Spark DataFrame\n",
    "Suppose you've run a query on your huge dataset and aggregated it down to something a little more manageable.\n",
    "\n",
    "Sometimes it makes sense to then take that table and work with it locally using a tool like pandas. Spark DataFrames make that easy with the .toPandas() method. Calling this method on a Spark DataFrame returns the corresponding pandas DataFrame. It's as simple as that!\n",
    "\n",
    "This time the query counts the number of flights to each airport from SEA and PDX."
   ]
  },
  {
   "cell_type": "code",
   "execution_count": 7,
   "metadata": {},
   "outputs": [
    {
     "name": "stdout",
     "output_type": "stream",
     "text": [
      "  origin dest   N\n",
      "0    SEA  SAT  18\n",
      "1    SEA  FLL  29\n",
      "2    PDX  CLT  21\n",
      "3    SEA  OMA  25\n",
      "4    SEA  KTN  77\n"
     ]
    }
   ],
   "source": [
    "# Don't change this query\n",
    "query = \"SELECT origin, dest, COUNT(*) as N FROM flights GROUP BY origin, dest\"\n",
    "\n",
    "# Run the query\n",
    "flight_counts = spark.sql(query)\n",
    "\n",
    "# Convert the results to a pandas DataFrame\n",
    "pd_counts = flight_counts.toPandas()\n",
    "\n",
    "# Print the head of pd_counts\n",
    "print(pd_counts.head())"
   ]
  },
  {
   "cell_type": "markdown",
   "metadata": {},
   "source": [
    "## Put some Spark in your data\n",
    "In the last exercise, you saw how to move data from Spark to pandas. However, maybe you want to go the other direction, and put a pandas DataFrame into a Spark cluster! The SparkSession class has a method for this as well.\n",
    "\n",
    "The .createDataFrame() method takes a pandas DataFrame and returns a Spark DataFrame.\n",
    "\n",
    "The output of this method is stored locally, not in the SparkSession catalog. This means that you can use all the Spark DataFrame methods on it, but you can't access the data in other contexts.\n",
    "\n",
    "For example, a SQL query (using the .sql() method) that references your DataFrame will throw an error. To access the data in this way, you have to save it as a temporary table.\n",
    "\n",
    "You can do this using the .createTempView() Spark DataFrame method, which takes as its only argument the name of the temporary table you'd like to register. This method registers the DataFrame as a table in the catalog, but as this table is temporary, it can only be accessed from the specific SparkSession used to create the Spark DataFrame.\n",
    "\n",
    "There is also the method .createOrReplaceTempView(). This safely creates a new temporary table if nothing was there before, or updates an existing table if one was already defined. You'll use this method to avoid running into problems with duplicate tables.\n",
    "\n",
    "Check out the diagram to see all the different ways your Spark data structures interact with each other."
   ]
  },
  {
   "cell_type": "markdown",
   "metadata": {},
   "source": [
    "<img src=\"../images/spark_diagram.png\">"
   ]
  },
  {
   "cell_type": "code",
   "execution_count": 8,
   "metadata": {},
   "outputs": [
    {
     "name": "stdout",
     "output_type": "stream",
     "text": [
      "[Table(name='flights', database=None, description=None, tableType='TEMPORARY', isTemporary=True)]\n",
      "[Table(name='flights', database=None, description=None, tableType='TEMPORARY', isTemporary=True), Table(name='temp', database=None, description=None, tableType='TEMPORARY', isTemporary=True)]\n"
     ]
    }
   ],
   "source": [
    "import numpy as np\n",
    "from pandas import DataFrame\n",
    "\n",
    "# Create pd_temp\n",
    "pd_temp = DataFrame(np.random.random(10))\n",
    "\n",
    "# Create spark_temp from pd_temp\n",
    "spark_temp = spark.createDataFrame(pd_temp)\n",
    "\n",
    "# Examine the tables in the catalog\n",
    "print(spark.catalog.listTables())\n",
    "\n",
    "# Add spark_temp to the catalog\n",
    "spark_temp.createOrReplaceTempView(\"temp\")\n",
    "\n",
    "# Examine the tables in the catalog again\n",
    "print(spark.catalog.listTables())"
   ]
  },
  {
   "cell_type": "code",
   "execution_count": 9,
   "metadata": {},
   "outputs": [],
   "source": [
    "spark.createDataFrame(df).coalesce(10) \\\n",
    "    .write.mode('overwrite') \\\n",
    "    .parquet(\".../data/datacamp/flights\")"
   ]
  },
  {
   "cell_type": "markdown",
   "metadata": {},
   "source": [
    "## Dropping the middle man\n",
    "Now you know how to put data into Spark via pandas, but you're probably wondering why deal with pandas at all? Wouldn't it be easier to just read a text file straight into Spark? Of course it would!\n",
    "\n",
    "Luckily, your SparkSession has a .read attribute which has several methods for reading different data sources into Spark DataFrames. Using these you can create a DataFrame from a .csv file just like with regular pandas DataFrames!\n",
    "\n",
    "The variable file_path is a string with the path to the file airports.csv. This file contains information about different airports all over the world."
   ]
  },
  {
   "cell_type": "code",
   "execution_count": 10,
   "metadata": {},
   "outputs": [
    {
     "name": "stdout",
     "output_type": "stream",
     "text": [
      "+----+-----+---+--------+---------+--------+---------+-------+-------+------+------+----+--------+--------+----+------+\n",
      "|year|month|day|dep_time|dep_delay|arr_time|arr_delay|carrier|tailnum|flight|origin|dest|air_time|distance|hour|minute|\n",
      "+----+-----+---+--------+---------+--------+---------+-------+-------+------+------+----+--------+--------+----+------+\n",
      "|2014|   11| 24|   502.0|     -8.0|   647.0|    -36.0|     UA| N36472|  1523|   SEA| SFO|    90.0|     679| 5.0|   2.0|\n",
      "|2014|    4|  6|  1126.0|     11.0|  1720.0|     20.0|     AA| N3KDAA|  1311|   SEA| DFW|   205.0|    1660|11.0|  26.0|\n",
      "|2014|    4| 10|   959.0|     -1.0|  1310.0|    -20.0|     WN| N7812G|   761|   PDX| DEN|   118.0|     991| 9.0|  59.0|\n",
      "|2014|    1| 19|  1255.0|     -5.0|  1803.0|    -14.0|     DL| N643DL|  1950|   SEA| MSP|   154.0|    1399|12.0|  55.0|\n",
      "|2014|    8|  6|  1751.0|      1.0|  2028.0|     -7.0|     WN| N7701B|   899|   SEA| SAN|   137.0|    1050|17.0|  51.0|\n",
      "|2014|    4| 28|   552.0|     -8.0|   831.0|    -14.0|     DL| N696DL|  1831|   PDX| SLC|    76.0|     630| 5.0|  52.0|\n",
      "|2014|    3| 21|  1638.0|     -2.0|  1953.0|     -2.0|     AS| N566AS|   867|   SEA| OGG|   353.0|    2640|16.0|  38.0|\n",
      "|2014|   10|  9|  1231.0|     31.0|  1511.0|     26.0|     WN| N744SW|  4395|   SEA| PHX|   140.0|    1107|12.0|  31.0|\n",
      "|2014|   11|  5|  1751.0|     -9.0|  2112.0|    -18.0|     US| N183UW|   600|   PDX| PHX|   126.0|    1009|17.0|  51.0|\n",
      "|2014|    8| 15|  1122.0|     -3.0|  1310.0|      2.0|     AS| N461AS|   364|   SEA| SMF|    80.0|     605|11.0|  22.0|\n",
      "|2014|    8|  9|   754.0|     -1.0|  1641.0|      6.0|     AS| N549AS|    18|   SEA| MCO|   326.0|    2554| 7.0|  54.0|\n",
      "|2014|    8| 26|  1941.0|     -4.0|  2111.0|     -1.0|     DL| N693DL|  2579|   SEA| JNU|   127.0|     909|19.0|  41.0|\n",
      "|2014|    3| 27|   829.0|     -1.0|  1428.0|      4.0|     AS| N306AS|    28|   SEA| ORD|   217.0|    1721| 8.0|  29.0|\n",
      "|2014|    8| 15|   517.0|      2.0|   714.0|    -16.0|     UA| N69818|  1278|   SEA| SFO|    99.0|     679| 5.0|  17.0|\n",
      "|2014|    7| 14|  1012.0|     -3.0|  1245.0|     -5.0|     VX| N526VA|   784|   SEA| LAX|   135.0|     954|10.0|  12.0|\n",
      "|2014|   12|  9|   633.0|     -2.0|   909.0|     -9.0|     AS| N524AS|   240|   SEA| SAN|   141.0|    1050| 6.0|  33.0|\n",
      "|2014|    8| 31|   906.0|     -4.0|  1108.0|     -7.0|     WN| N638SW|  3010|   SEA| OAK|    95.0|     671| 9.0|   6.0|\n",
      "|2014|    9| 22|   555.0|     -5.0|   838.0|    -10.0|     DL| N6715C|  1831|   PDX| SLC|    83.0|     630| 5.0|  55.0|\n",
      "|2014|    6| 16|   610.0|      0.0|  1220.0|    -10.0|     WN| N772SW|  2010|   SEA| HOU|   227.0|    1894| 6.0|  10.0|\n",
      "|2014|   10|  9|  1427.0|      2.0|  1602.0|     -7.0|     AS| N615AS|   362|   SEA| SMF|    81.0|     605|14.0|  27.0|\n",
      "+----+-----+---+--------+---------+--------+---------+-------+-------+------+------+----+--------+--------+----+------+\n",
      "only showing top 20 rows\n",
      "\n"
     ]
    }
   ],
   "source": [
    "# Don't change this file path\n",
    "file_path = \".../data/datacamp/flights\"\n",
    "\n",
    "# Read in the airports data\n",
    "airports = spark.read.parquet(file_path)\n",
    "\n",
    "# Show the data\n",
    "airports.show()"
   ]
  }
 ],
 "metadata": {
  "kernelspec": {
   "display_name": "Python [conda env:playground_py36]",
   "language": "python",
   "name": "conda-env-playground_py36-py"
  },
  "language_info": {
   "codemirror_mode": {
    "name": "ipython",
    "version": 3
   },
   "file_extension": ".py",
   "mimetype": "text/x-python",
   "name": "python",
   "nbconvert_exporter": "python",
   "pygments_lexer": "ipython3",
   "version": "3.6.10"
  },
  "toc": {
   "base_numbering": 1,
   "nav_menu": {},
   "number_sections": false,
   "sideBar": false,
   "skip_h1_title": false,
   "title_cell": "Table of Contents",
   "title_sidebar": "Contents",
   "toc_cell": false,
   "toc_position": {},
   "toc_section_display": false,
   "toc_window_display": false
  }
 },
 "nbformat": 4,
 "nbformat_minor": 1
}
