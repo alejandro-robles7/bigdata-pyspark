{
 "cells": [
  {
   "cell_type": "markdown",
   "metadata": {},
   "source": [
    "# PySpark SQL & DataFrames\n",
    "\n",
    "In this chapter, you'll learn about Spark SQL which is a Spark module for structured data processing. It provides a programming abstraction called DataFrames and can also act as a distributed SQL query engine. This chapter shows how Spark SQL allows you to use DataFrames in Python."
   ]
  },
  {
   "cell_type": "markdown",
   "metadata": {},
   "source": [
    "## RDD to DataFrame\n",
    "Similar to RDDs, DataFrames are immutable and distributed data structures in Spark. Even though RDDs are a fundamental data structure in Spark, working with data in DataFrame is easier than RDD most of the time and so understanding of how to convert RDD to DataFrame is necessary.\n",
    "\n",
    "In this exercise, you'll first make an RDD using the sample_list which contains the list of tuples ('Mona',20), ('Jennifer',34),('John',20), ('Jim',26) with each tuple contains the name of the person and their age. Next, you'll create a DataFrame using the RDD and the schema (which is the list of 'Name' and 'Age') and finally confirm the output as PySpark DataFrame."
   ]
  },
  {
   "cell_type": "code",
   "execution_count": 2,
   "metadata": {},
   "outputs": [
    {
     "name": "stdout",
     "output_type": "stream",
     "text": [
      "The type of names_df is <class 'pyspark.sql.dataframe.DataFrame'>\n"
     ]
    }
   ],
   "source": [
    "# Create a list of tuples\n",
    "sample_list = [('Mona',20), ('Jennifer',34), ('John',20), ('Jim',26)]\n",
    "\n",
    "# Create a RDD from the list\n",
    "rdd = sc.parallelize(sample_list)\n",
    "\n",
    "# Create a PySpark DataFrame\n",
    "names_df = spark.createDataFrame(rdd, schema=['Name', 'Age'])\n",
    "\n",
    "# Check the type of names_df\n",
    "print(\"The type of names_df is\", type(names_df))"
   ]
  },
  {
   "cell_type": "markdown",
   "metadata": {},
   "source": [
    "## Loading CSV into DataFrame\n",
    "In the previous exercise, you have seen a method of creating DataFrame but generally, loading data from CSV file is the most common method of creating DataFrames. In this exercise, you'll create a PySpark DataFrame from a people.csv file that is already provided to you as a file_path and confirm the created object is a PySpark DataFrame."
   ]
  },
  {
   "cell_type": "code",
   "execution_count": 3,
   "metadata": {},
   "outputs": [
    {
     "name": "stdout",
     "output_type": "stream",
     "text": [
      "The type of people_df is <class 'pyspark.sql.dataframe.DataFrame'>\n"
     ]
    }
   ],
   "source": [
    "# Path to data\n",
    "file_path = \".../data/datacamp/people\"\n",
    "\n",
    "# Create an DataFrame from file_path\n",
    "people_df = spark.read.parquet(file_path)\n",
    "\n",
    "# Check the type of people_df\n",
    "print(\"The type of people_df is\", type(people_df))"
   ]
  },
  {
   "cell_type": "markdown",
   "metadata": {},
   "source": [
    "## Inspecting data in PySpark DataFrame\n",
    "Inspecting data is very crucial before performing analysis such as plotting, modeling, training etc., In this simple exercise, you'll inspect the data in the people_df DataFrame that you have created in the previous exercise using basic DataFrame operators."
   ]
  },
  {
   "cell_type": "code",
   "execution_count": 4,
   "metadata": {},
   "outputs": [
    {
     "name": "stdout",
     "output_type": "stream",
     "text": [
      "+---------+------------------+------+-----------+\n",
      "|person_id|              name|   sex|dateofbirth|\n",
      "+---------+------------------+------+-----------+\n",
      "|    30100|    Terrence Mahon|  male| 1967-11-24|\n",
      "|    30101|   Ricardo Watkins|  male| 1976-09-23|\n",
      "|    30102|       Erin Ullman|female| 1960-09-10|\n",
      "|    30103|       Henry Crain|  male| 2004-11-25|\n",
      "|    30104|     James Higgins|  male| 1989-03-09|\n",
      "|    30105|     Jamaal Martin|  male| 1965-06-23|\n",
      "|    30106|Elizabeth Purgason|female| 1988-11-24|\n",
      "|    30107|   Francis Wolford|  male| 2007-08-12|\n",
      "|    30108|         Mary King|female| 1951-12-31|\n",
      "|    30109|    Ernest Frasher|  male| 2008-12-23|\n",
      "+---------+------------------+------+-----------+\n",
      "only showing top 10 rows\n",
      "\n",
      "There are 100000 rows in the people_df DataFrame.\n",
      "There are 4 columns in the people_df DataFrame and their names are ['person_id', 'name', 'sex', 'dateofbirth']\n"
     ]
    }
   ],
   "source": [
    "# Print the first 10 observations \n",
    "people_df.show(10)\n",
    "\n",
    "# Count the number of rows \n",
    "print(\"There are {} rows in the people_df DataFrame.\".format(people_df.count()))\n",
    "\n",
    "# Count the number of columns and their names\n",
    "print(\"There are {} columns in the people_df DataFrame and their names are {}\".format(len(people_df.columns), people_df.columns))"
   ]
  },
  {
   "cell_type": "markdown",
   "metadata": {},
   "source": [
    "## PySpark DataFrame subsetting and cleaning\n",
    "After data inspection, it is often necessary to clean the data which mainly involves subsetting, renaming the columns, removing duplicated rows etc., PySpark DataFrame API provides several operators to do this. In this exercise, your job is to subset 'name', 'sex' and 'date of birth' columns from people_df DataFrame, remove any duplicate rows from that dataset and count the number of rows before and after duplicates removal step."
   ]
  },
  {
   "cell_type": "code",
   "execution_count": 5,
   "metadata": {},
   "outputs": [
    {
     "name": "stdout",
     "output_type": "stream",
     "text": [
      "+------------------+------+-----------+\n",
      "|              name|   sex|dateofbirth|\n",
      "+------------------+------+-----------+\n",
      "|    Terrence Mahon|  male| 1967-11-24|\n",
      "|   Ricardo Watkins|  male| 1976-09-23|\n",
      "|       Erin Ullman|female| 1960-09-10|\n",
      "|       Henry Crain|  male| 2004-11-25|\n",
      "|     James Higgins|  male| 1989-03-09|\n",
      "|     Jamaal Martin|  male| 1965-06-23|\n",
      "|Elizabeth Purgason|female| 1988-11-24|\n",
      "|   Francis Wolford|  male| 2007-08-12|\n",
      "|         Mary King|female| 1951-12-31|\n",
      "|    Ernest Frasher|  male| 2008-12-23|\n",
      "+------------------+------+-----------+\n",
      "only showing top 10 rows\n",
      "\n",
      "There were 100000 rows before removing duplicates, and 99998 rows after removing duplicates\n"
     ]
    }
   ],
   "source": [
    "# Select name, sex and date of birth columns\n",
    "people_df_sub = people_df.select('name', 'sex', 'dateofbirth')\n",
    "\n",
    "# Print the first 10 observations from people_df_sub\n",
    "people_df_sub.show(10)\n",
    "\n",
    "# Remove duplicate entries from people_df_sub\n",
    "people_df_sub_nodup = people_df_sub.dropDuplicates()\n",
    "\n",
    "# Count the number of rows\n",
    "print(\"There were {} rows before removing duplicates, and {} rows after removing duplicates\".format(people_df_sub.count(), people_df_sub_nodup.count()))"
   ]
  },
  {
   "cell_type": "markdown",
   "metadata": {},
   "source": [
    "## Filtering your DataFrame\n",
    "In the previous exercise, you have subset the data using select() operator which is mainly used to subset the DataFrame column-wise. What if you want to subset the DataFrame based on a condition (for example, select all rows where the sex is Female). In this exercise, you will filter the rows in the people_df DataFrame in which 'sex' is female and male and create two different datasets. Finally, you'll count the number of rows in each of those datasets."
   ]
  },
  {
   "cell_type": "code",
   "execution_count": 6,
   "metadata": {},
   "outputs": [
    {
     "name": "stdout",
     "output_type": "stream",
     "text": [
      "There are 49014 rows in the people_df_female DataFrame and 49066 rows in the people_df_male DataFrame\n"
     ]
    }
   ],
   "source": [
    "# Filter people_df to select females \n",
    "people_df_female = people_df.filter(people_df.sex == \"female\")\n",
    "\n",
    "# Filter people_df to select males\n",
    "people_df_male = people_df.filter(people_df.sex == \"male\")\n",
    "\n",
    "# Count the number of rows \n",
    "print(\"There are {} rows in the people_df_female DataFrame and {} rows in the people_df_male DataFrame\".format(people_df_female.count(), people_df_male.count()))"
   ]
  },
  {
   "cell_type": "markdown",
   "metadata": {},
   "source": [
    "## Running SQL Queries Programmatically\n",
    "DataFrames can easily be manipulated using SQL queries in PySpark. The sql() function on a SparkSession enables applications to run SQL queries programmatically and returns the result as another DataFrame. In this exercise, you'll create a temporary table of the people_df DataFrame that you created previously, then construct a query to select the names of the people from the temporary table and assign the result to a new DataFrame."
   ]
  },
  {
   "cell_type": "code",
   "execution_count": 7,
   "metadata": {},
   "outputs": [
    {
     "name": "stdout",
     "output_type": "stream",
     "text": [
      "+------------------+\n",
      "|              name|\n",
      "+------------------+\n",
      "|    Terrence Mahon|\n",
      "|   Ricardo Watkins|\n",
      "|       Erin Ullman|\n",
      "|       Henry Crain|\n",
      "|     James Higgins|\n",
      "|     Jamaal Martin|\n",
      "|Elizabeth Purgason|\n",
      "|   Francis Wolford|\n",
      "|         Mary King|\n",
      "|    Ernest Frasher|\n",
      "+------------------+\n",
      "only showing top 10 rows\n",
      "\n"
     ]
    }
   ],
   "source": [
    "# Create a temporary table \"people\"\n",
    "people_df.createOrReplaceTempView(\"people\")\n",
    "\n",
    "# Construct a query to select the names of the people from the temporary table \"people\"\n",
    "query = '''SELECT name FROM people'''\n",
    "\n",
    "# Assign the result of Spark's query to people_df_names\n",
    "people_df_names = spark.sql(query)\n",
    "\n",
    "# Print the top 10 names of the people\n",
    "people_df_names.show(10)"
   ]
  },
  {
   "cell_type": "markdown",
   "metadata": {},
   "source": [
    "## SQL queries for filtering Table\n",
    "In the previous exercise, you have run a simple SQL query on a DataFrame. There are more sophisticated queries you can construct to obtain the result that you want and use it for downstream analysis such as data visualization and Machine Learning. In this exercise, we will use the temporary table people that you created previously and filter out the rows where the \"sex\" is male and female and create two DataFrames."
   ]
  },
  {
   "cell_type": "code",
   "execution_count": 8,
   "metadata": {},
   "outputs": [
    {
     "name": "stdout",
     "output_type": "stream",
     "text": [
      "There are 49014 rows in the people_female_df and 49066 rows in the people_male_df DataFrames\n"
     ]
    }
   ],
   "source": [
    "# Filter the people table to select female sex \n",
    "people_female_df = spark.sql('SELECT * FROM people WHERE sex==\"female\"')\n",
    "\n",
    "# Filter the people table DataFrame to select male sex\n",
    "people_male_df = spark.sql('SELECT * FROM people WHERE sex==\"male\"')\n",
    "\n",
    "# Count the number of rows in both DataFrames\n",
    "print(\"There are {} rows in the people_female_df and {} rows in the people_male_df DataFrames\".format(people_female_df.count(), people_male_df.count()))"
   ]
  },
  {
   "cell_type": "markdown",
   "metadata": {},
   "source": [
    "## PySpark DataFrame visualization\n",
    "Graphical representations or visualization of data is imperative for understanding as well as interpreting the data. In this simple data visualization exercise, you'll first print the column names of names_df DataFrame that you created earlier, then convert the names_df to Pandas DataFrame and finally plot the contents as horizontal bar plot with names of the people on the x-axis and their age on the y-axis."
   ]
  },
  {
   "cell_type": "code",
   "execution_count": 9,
   "metadata": {},
   "outputs": [],
   "source": [
    "from pyspark.sql.functions import to_timestamp, unix_timestamp, to_date, lit, round, col\n",
    "\n",
    "names_df = people_df \\\n",
    "    .withColumn('age', round((unix_timestamp(to_timestamp(lit(\"2020-06-07\"), 'yyyy-MM-dd')) - unix_timestamp(to_timestamp(people_df.dateofbirth, 'yyyy-MM-dd')))/ 3.154e+7)) \\\n",
    "    .filter(col('age') > 0) \\\n",
    "    .select('name', 'age') \\\n",
    "    .limit(4)"
   ]
  },
  {
   "cell_type": "code",
   "execution_count": 10,
   "metadata": {},
   "outputs": [
    {
     "name": "stdout",
     "output_type": "stream",
     "text": [
      "The column names of names_df are ['name', 'age']\n"
     ]
    },
    {
     "data": {
      "image/png": "[encoded data removed]",
      "text/plain": [
       "<Figure size 432x288 with 1 Axes>"
      ]
     },
     "metadata": {
      "needs_background": "light"
     },
     "output_type": "display_data"
    }
   ],
   "source": [
    "%matplotlib inline\n",
    "from matplotlib import pyplot as plt\n",
    "\n",
    "# Check the column names of names_df\n",
    "print(\"The column names of names_df are\", names_df.columns)\n",
    "\n",
    "# Convert to Pandas DataFrame  \n",
    "df_pandas = names_df.toPandas()\n",
    "\n",
    "# Create a horizontal bar plot\n",
    "df_pandas.plot(kind='barh', x='name', y='age', colormap='winter_r')\n",
    "plt.show()"
   ]
  },
  {
   "cell_type": "markdown",
   "metadata": {},
   "source": [
    "## Part 1: Create a DataFrame from CSV file\n",
    "Every 4 years, the soccer fans throughout the world celebrates a festival called “Fifa World Cup” and with that, everything seems to change in many countries. In this 3 part exercise, you'll be doing some exploratory data analysis (EDA) on the \"FIFA 2018 World Cup Player\" dataset using PySpark SQL which involve DataFrame operations, SQL queries and visualization.\n",
    "\n",
    "In the first part, you'll load FIFA 2018 World Cup Players dataset (Fifa2018_dataset.csv) which is in CSV format into a PySpark's dataFrame and inspect the data using basic DataFrame operations."
   ]
  },
  {
   "cell_type": "code",
   "execution_count": 11,
   "metadata": {},
   "outputs": [
    {
     "name": "stdout",
     "output_type": "stream",
     "text": [
      "root\n",
      " |-- _c0: long (nullable = true)\n",
      " |-- name: string (nullable = true)\n",
      " |-- age: long (nullable = true)\n",
      " |-- photo: string (nullable = true)\n",
      " |-- nationality: string (nullable = true)\n",
      " |-- flag: string (nullable = true)\n",
      " |-- overall: long (nullable = true)\n",
      " |-- potential: long (nullable = true)\n",
      " |-- club: string (nullable = true)\n",
      " |-- clublogo: string (nullable = true)\n",
      " |-- value: string (nullable = true)\n",
      " |-- wage: string (nullable = true)\n",
      " |-- special: long (nullable = true)\n",
      " |-- acceleration: string (nullable = true)\n",
      " |-- aggression: string (nullable = true)\n",
      " |-- agility: string (nullable = true)\n",
      " |-- balance: string (nullable = true)\n",
      " |-- ballcontrol: string (nullable = true)\n",
      " |-- composure: string (nullable = true)\n",
      " |-- crossing: string (nullable = true)\n",
      " |-- curve: string (nullable = true)\n",
      " |-- dribbling: string (nullable = true)\n",
      " |-- finishing: string (nullable = true)\n",
      " |-- freekickaccuracy: string (nullable = true)\n",
      " |-- gkdiving: string (nullable = true)\n",
      " |-- gkhandling: string (nullable = true)\n",
      " |-- gkkicking: string (nullable = true)\n",
      " |-- gkpositioning: string (nullable = true)\n",
      " |-- gkreflexes: string (nullable = true)\n",
      " |-- headingaccuracy: string (nullable = true)\n",
      " |-- interceptions: string (nullable = true)\n",
      " |-- jumping: string (nullable = true)\n",
      " |-- longpassing: string (nullable = true)\n",
      " |-- longshots: string (nullable = true)\n",
      " |-- marking: string (nullable = true)\n",
      " |-- penalties: string (nullable = true)\n",
      " |-- positioning: string (nullable = true)\n",
      " |-- reactions: string (nullable = true)\n",
      " |-- shortpassing: string (nullable = true)\n",
      " |-- shotpower: string (nullable = true)\n",
      " |-- slidingtackle: string (nullable = true)\n",
      " |-- sprintspeed: string (nullable = true)\n",
      " |-- stamina: string (nullable = true)\n",
      " |-- standingtackle: string (nullable = true)\n",
      " |-- strength: string (nullable = true)\n",
      " |-- vision: string (nullable = true)\n",
      " |-- volleys: string (nullable = true)\n",
      " |-- cam: double (nullable = true)\n",
      " |-- cb: double (nullable = true)\n",
      " |-- cdm: double (nullable = true)\n",
      " |-- cf: double (nullable = true)\n",
      " |-- cm: double (nullable = true)\n",
      " |-- id: long (nullable = true)\n",
      " |-- lam: double (nullable = true)\n",
      " |-- lb: double (nullable = true)\n",
      " |-- lcb: double (nullable = true)\n",
      " |-- lcm: double (nullable = true)\n",
      " |-- ldm: double (nullable = true)\n",
      " |-- lf: double (nullable = true)\n",
      " |-- lm: double (nullable = true)\n",
      " |-- ls: double (nullable = true)\n",
      " |-- lw: double (nullable = true)\n",
      " |-- lwb: double (nullable = true)\n",
      " |-- preferredpositions: string (nullable = true)\n",
      " |-- ram: double (nullable = true)\n",
      " |-- rb: double (nullable = true)\n",
      " |-- rcb: double (nullable = true)\n",
      " |-- rcm: double (nullable = true)\n",
      " |-- rdm: double (nullable = true)\n",
      " |-- rf: double (nullable = true)\n",
      " |-- rm: double (nullable = true)\n",
      " |-- rs: double (nullable = true)\n",
      " |-- rw: double (nullable = true)\n",
      " |-- rwb: double (nullable = true)\n",
      " |-- st: double (nullable = true)\n",
      "\n",
      "+----+------------+---+--------------------+-----------+--------------------+-------+---------+--------------------+--------------------+-----+----+-------+------------+----------+-------+-------+-----------+---------+--------+-----+---------+---------+----------------+--------+----------+---------+-------------+----------+---------------+-------------+-------+-----------+---------+-------+---------+-----------+---------+------------+---------+-------------+-----------+-------+--------------+--------+------+-------+----+----+----+----+----+------+----+----+----+----+----+----+----+----+----+----+------------------+----+----+----+----+----+----+----+----+----+----+----+\n",
      "| _c0|        name|age|               photo|nationality|                flag|overall|potential|                club|            clublogo|value|wage|special|acceleration|aggression|agility|balance|ballcontrol|composure|crossing|curve|dribbling|finishing|freekickaccuracy|gkdiving|gkhandling|gkkicking|gkpositioning|gkreflexes|headingaccuracy|interceptions|jumping|longpassing|longshots|marking|penalties|positioning|reactions|shortpassing|shotpower|slidingtackle|sprintspeed|stamina|standingtackle|strength|vision|volleys| cam|  cb| cdm|  cf|  cm|    id| lam|  lb| lcb| lcm| ldm|  lf|  lm|  ls|  lw| lwb|preferredpositions| ram|  rb| rcb| rcm| rdm|  rf|  rm|  rs|  rw| rwb|  st|\n",
      "+----+------------+---+--------------------+-----------+--------------------+-------+---------+--------------------+--------------------+-----+----+-------+------------+----------+-------+-------+-----------+---------+--------+-----+---------+---------+----------------+--------+----------+---------+-------------+----------+---------------+-------------+-------+-----------+---------+-------+---------+-----------+---------+------------+---------+-------------+-----------+-------+--------------+--------+------+-------+----+----+----+----+----+------+----+----+----+----+----+----+----+----+----+----+------------------+----+----+----+----+----+----+----+----+----+----+----+\n",
      "|3594|     G. Bong| 29|https://cdn.sofif...|   Cameroon|https://cdn.sofif...|     72|       72|Brighton & Hove A...|https://cdn.sofif...|€2.4M|€30K|   1818|          69|        70|     71|     64|         73|       68|      70|   64|       68|       29|              35|      13|        12|       10|            8|        14|             56|           71|     72|         70|       53|     72|       40|         63|       68|          72|       58|           73|         70|     75|            75|      76|    68|     16|66.0|71.0|72.0|63.0|69.0|177766|66.0|71.0|71.0|69.0|72.0|63.0|67.0|58.0|65.0|72.0|               LB |66.0|71.0|71.0|69.0|72.0|63.0|67.0|58.0|65.0|72.0|58.0|\n",
      "|3595|E. Jakupović| 32|https://cdn.sofif...|Switzerland|https://cdn.sofif...|     72|       72|      Leicester City|https://cdn.sofif...|€1.8M|€30K|   1168|          46|        45|     38|     45|         22|       67|      11|   11|       11|       12|              14|      73|        70|       69|           71|        77|             12|           24|     66|         34|       11|     13|       22|         11|       59|          39|       25|           11|         47|     31|            12|      62|    52|     22| NaN| NaN| NaN| NaN| NaN| 52326| NaN| NaN| NaN| NaN| NaN| NaN| NaN| NaN| NaN| NaN|               GK | NaN| NaN| NaN| NaN| NaN| NaN| NaN| NaN| NaN| NaN| NaN|\n",
      "|3596|  L. Ardente| 35|https://cdn.sofif...|  Argentina|https://cdn.sofif...|     72|       72|San Martín de San...|https://cdn.sofif...|€725K| €4K|    971|          25|        18|     20|     16|         13|       26|      13|   15|       11|       12|              16|      70|        72|       82|           70|        75|             11|           10|     26|         23|       12|     14|       50|         10|       62|          16|       20|           12|         21|     14|            13|      69|    50|     10| NaN| NaN| NaN| NaN| NaN|184422| NaN| NaN| NaN| NaN| NaN| NaN| NaN| NaN| NaN| NaN|               GK | NaN| NaN| NaN| NaN| NaN| NaN| NaN| NaN| NaN| NaN| NaN|\n",
      "|3597| J. Shackell| 33|https://cdn.sofif...|    England|https://cdn.sofif...|     72|       72|        Derby County|https://cdn.sofif...|€1.3M|€33K|   1606|          53|        70|     56|     49|         61|       72|      42|   42|       58|       32|              21|       8|         9|        7|            8|         6|             73|           72|     75|         62|       34|     74|       31|         50|       68|          65|       61|           70|         53|     62|            70|      82|    45|     37|54.0|71.0|67.0|54.0|59.0|139368|54.0|64.0|71.0|59.0|67.0|54.0|55.0|55.0|53.0|63.0|               CB |54.0|64.0|71.0|59.0|67.0|54.0|55.0|55.0|53.0|63.0|55.0|\n",
      "|3598|  D. Andrade| 26|https://cdn.sofif...|   Colombia|https://cdn.sofif...|     72|       75|Asociacion Deport...|https://cdn.sofif...|€3.2M| €3K|   1688|          78|        73|     75|     71|         63|       69|      70|   30|       64|       44|              30|       7|         7|        7|            6|         9|             59|           68|     70|         67|       23|     68|       37|         55|       67|          64|       56|           70|         82|     85|            71|      60|    29|     23|56.0|67.0|67.0|57.0|59.0|214376|56.0|71.0|67.0|59.0|67.0|57.0|64.0|57.0|60.0|71.0|               LB |56.0|71.0|67.0|59.0|67.0|57.0|64.0|57.0|60.0|71.0|57.0|\n",
      "|3599|   L. Tomlin| 28|https://cdn.sofif...|    England|https://cdn.sofif...|     72|       72|        Cardiff City|https://cdn.sofif...|€3.1M|€21K|   1840|          67|        78|     75|     76|         70|       66|      60|   60|       74|       71|              72|       9|        12|       13|           12|        11|             53|           46|     59|         64|       73|     29|       70|         69|       63|          70|       76|           33|         70|     59|            36|      74|    76|     60|71.0|50.0|56.0|70.0|66.0|172904|71.0|52.0|50.0|66.0|56.0|70.0|68.0|69.0|70.0|55.0|           LM CAM |71.0|52.0|50.0|66.0|56.0|70.0|68.0|69.0|70.0|55.0|69.0|\n",
      "|3600|   D. Kaiser| 28|https://cdn.sofif...|    Germany|https://cdn.sofif...|     72|       72|          RB Leipzig|https://cdn.sofif...|€3.1M|€38K|   2002|          66|        72|     77|     89|         74|       71|      76|   80|       68|       69|              77|      14|        11|       10|            7|        10|             43|           65|     74|         69|       69|     57|       75|         75|       77|          75|       77|           56|         54|     79|            59|      58|    69|     71|71.0|61.0|68.0|71.0|72.0|201066|71.0|65.0|61.0|72.0|68.0|71.0|71.0|68.0|71.0|68.0|        RM CM CAM |71.0|65.0|61.0|72.0|68.0|71.0|71.0|68.0|71.0|68.0|68.0|\n",
      "|3601|   I. Parraz| 29|https://cdn.sofif...|      Chile|https://cdn.sofif...|     72|       72|Universidad de Chile|https://cdn.sofif...|  €3M|€10K|   1809|          68|        37|     71|     67|         76|       66|      71|   72|       73|       67|              67|      11|        15|       12|            9|         7|             51|           46|     59|         68|       56|     50|       64|         71|       65|          73|       55|           42|         72|     64|            54|      59|    75|     62|71.0|53.0|60.0|70.0|69.0|160106|71.0|59.0|53.0|69.0|60.0|70.0|71.0|66.0|71.0|61.0|        RM LM CAM |71.0|59.0|53.0|69.0|60.0|70.0|71.0|66.0|71.0|61.0|66.0|\n",
      "|3602| D. Stotskiy| 27|https://cdn.sofif...|     Russia|https://cdn.sofif...|     72|       73|              FC Ufa|https://cdn.sofif...|€2.9M|€18K|   1968|          82|        63|     91|     86|         71|       64|      76|   60|       70|       65|              62|      14|         8|       14|           14|        15|             69|           61|     72|         68|       60|     58|       62|         64|       68|          72|       69|           67|         79|     84|            69|      35|    67|     53|70.0|63.0|66.0|69.0|69.0|227690|70.0|70.0|63.0|69.0|66.0|69.0|72.0|67.0|71.0|71.0|    RWB CM RM LWB |70.0|70.0|63.0|69.0|66.0|69.0|72.0|67.0|71.0|71.0|67.0|\n",
      "|3603|   Zé Manuel| 26|https://cdn.sofif...|   Portugal|https://cdn.sofif...|     72|       72|        Wisła Kraków|https://cdn.sofif...|€3.4M|€10K|   1771|          76|        59|     70|     70|         72|       68|      67|   65|       70|       70|              69|       8|         9|       15|           13|        14|             62|           22|     68|         61|       69|     17|       69|         74|       75|          64|       77|           18|         80|     75|            21|      62|    58|     52|69.0|41.0|48.0|71.0|63.0|223339|69.0|48.0|41.0|63.0|48.0|71.0|70.0|71.0|70.0|52.0|         RM LM ST |69.0|48.0|41.0|63.0|48.0|71.0|70.0|71.0|70.0|52.0|71.0|\n",
      "+----+------------+---+--------------------+-----------+--------------------+-------+---------+--------------------+--------------------+-----+----+-------+------------+----------+-------+-------+-----------+---------+--------+-----+---------+---------+----------------+--------+----------+---------+-------------+----------+---------------+-------------+-------+-----------+---------+-------+---------+-----------+---------+------------+---------+-------------+-----------+-------+--------------+--------+------+-------+----+----+----+----+----+------+----+----+----+----+----+----+----+----+----+----+------------------+----+----+----+----+----+----+----+----+----+----+----+\n",
      "only showing top 10 rows\n",
      "\n"
     ]
    },
    {
     "name": "stdout",
     "output_type": "stream",
     "text": [
      "There are 17981 rows in the fifa_df DataFrame\n"
     ]
    }
   ],
   "source": [
    "# Path to data\n",
    "file_path = \".../data/datacamp/fifa\"\n",
    "\n",
    "# Create an DataFrame from file_path\n",
    "fifa_df = spark.read.parquet(file_path)\n",
    "\n",
    "# Check the schema of columns\n",
    "fifa_df.printSchema()\n",
    "\n",
    "# Show the first 10 observations\n",
    "fifa_df.show(10)\n",
    "\n",
    "# Print the total number of rows\n",
    "print(\"There are {} rows in the fifa_df DataFrame\".format(fifa_df.count()))"
   ]
  },
  {
   "cell_type": "markdown",
   "metadata": {},
   "source": [
    "## Part 2: SQL Queries on DataFrame\n",
    "The fifa_df DataFrame that we created has additional information about datatypes and names of columns associated with it. This additional information allows PySpark SQL to run SQL queries on DataFrame. SQL queries are concise and easy to run compared to DataFrame operations. But in order to apply SQL queries on DataFrame first, you need to create a temporary view of DataFrame as a table and then apply SQL queries on the created table (Running SQL Queries Programmatically).\n",
    "\n",
    "In the second part, you'll create a temporary table of fifa_df DataFrame and run SQL queries to extract the 'Age' column of players from Germany."
   ]
  },
  {
   "cell_type": "code",
   "execution_count": 12,
   "metadata": {},
   "outputs": [
    {
     "name": "stdout",
     "output_type": "stream",
     "text": [
      "+-------+-----------------+\n",
      "|summary|              Age|\n",
      "+-------+-----------------+\n",
      "|  count|             1140|\n",
      "|   mean|24.20263157894737|\n",
      "| stddev|4.197096712293742|\n",
      "|    min|               16|\n",
      "|    max|               36|\n",
      "+-------+-----------------+\n",
      "\n"
     ]
    }
   ],
   "source": [
    "# Create a temporary view of fifa_df\n",
    "fifa_df.createOrReplaceTempView('fifa_df_table')\n",
    "\n",
    "# Construct the \"query\"\n",
    "query = '''SELECT Age FROM fifa_df_table WHERE Nationality == \"Germany\"'''\n",
    "\n",
    "# Apply the SQL \"query\"\n",
    "fifa_df_germany_age = spark.sql(query)\n",
    "\n",
    "# Generate basic statistics\n",
    "fifa_df_germany_age.describe().show()"
   ]
  },
  {
   "cell_type": "markdown",
   "metadata": {},
   "source": [
    "## Part 3: Data visualization\n",
    "Data visualization is important for exploratory data analysis (EDA). PySpark DataFrame is a perfect for data visualization compared to RDDs because of its inherent structure and schema.\n",
    "\n",
    "In this third part, you'll create a histogram of the ages of all the players from Germany from the DataFrame that you created in the previous exercise. For this, you'll first convert the PySpark DataFrame into Pandas DataFrame and use matplotlib's plot() function to create a density plot of ages of all players from Germany."
   ]
  },
  {
   "cell_type": "code",
   "execution_count": 13,
   "metadata": {},
   "outputs": [
    {
     "name": "stdout",
     "output_type": "stream",
     "text": [
      "Collecting package metadata (current_repodata.json): done\n",
      "Solving environment: done\n",
      "\n",
      "# All requested packages already installed.\n",
      "\n"
     ]
    }
   ],
   "source": [
    "# Install a conda package in the current Jupyter kernel\n",
    "import sys\n",
    "!conda install --yes --prefix {sys.prefix} scipy"
   ]
  },
  {
   "cell_type": "code",
   "execution_count": 14,
   "metadata": {},
   "outputs": [
    {
     "data": {
      "image/png": "[encoded data removed]",
      "text/plain": [
       "<Figure size 432x288 with 1 Axes>"
      ]
     },
     "metadata": {
      "needs_background": "light"
     },
     "output_type": "display_data"
    }
   ],
   "source": [
    "# Convert fifa_df to fifa_df_germany_age_pandas DataFrame\n",
    "fifa_df_germany_age_pandas = fifa_df_germany_age.toPandas()\n",
    "\n",
    "# Plot the 'Age' density of Germany Players\n",
    "fifa_df_germany_age_pandas.plot(kind='density')\n",
    "plt.show()"
   ]
  }
 ],
 "metadata": {
  "kernelspec": {
   "display_name": "Python [conda env:playground_py36]",
   "language": "python",
   "name": "conda-env-playground_py36-py"
  },
  "language_info": {
   "codemirror_mode": {
    "name": "ipython",
    "version": 3
   },
   "file_extension": ".py",
   "mimetype": "text/x-python",
   "name": "python",
   "nbconvert_exporter": "python",
   "pygments_lexer": "ipython3",
   "version": "3.6.10"
  },
  "toc": {
   "base_numbering": 1,
   "nav_menu": {},
   "number_sections": false,
   "sideBar": false,
   "skip_h1_title": false,
   "title_cell": "Table of Contents",
   "title_sidebar": "Contents",
   "toc_cell": false,
   "toc_position": {},
   "toc_section_display": false,
   "toc_window_display": false
  }
 },
 "nbformat": 4,
 "nbformat_minor": 2
}
