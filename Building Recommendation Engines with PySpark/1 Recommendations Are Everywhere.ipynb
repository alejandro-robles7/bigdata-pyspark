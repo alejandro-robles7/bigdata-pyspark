{
 "cells": [
  {
   "cell_type": "markdown",
   "metadata": {},
   "source": [
    "# Building Recommendation Engines with PySpark\n",
    "This course will show you how to build recommendation engines using Alternating Least Squares in PySpark. Using the popular MovieLens dataset and the Million Songs dataset, this course will take you step by step through the intuition of the Alternating Least Squares algorithm as well as the code to train, test and implement ALS models on various types of customer data."
   ]
  },
  {
   "cell_type": "markdown",
   "metadata": {},
   "source": [
    "## Recommendations Are Everywhere\n",
    "This chapter will show you how powerful recommendations engines can be, and provide important distinctions between collaborative-filtering engines and content-based engines as well as the different types of implicit and explicit data that recommendation engines can use. You will also learn a very powerful way to uncover hidden features (latent features) that you may not even know exist in customer datasets."
   ]
  },
  {
   "cell_type": "markdown",
   "metadata": {},
   "source": [
    "## See the power of a recommendation engine\n",
    "Taylor and Jane both like watching movies. Taylor only likes dramas, comedies, and romances. Jane likes only action, adventure, and otherwise exciting films. One of the greatest benefits of ALS-based recommendation engines is that they can identify movies or items that users will like, even if they themselves think that they might not like them. Take a look at the movie ratings that Taylor and Jane have provided below. It would stand to reason that their different preferences would generate different recommendations."
   ]
  },
  {
   "cell_type": "code",
   "execution_count": 2,
   "metadata": {},
   "outputs": [],
   "source": [
    "TJ_ratings = spark.createDataFrame(sc.parallelize([\n",
    "    ('Taylor' , 'Twilight' , 4.9),\n",
    "    ('Taylor' , 'A Walk to Remember' , 4.5),\n",
    "    ('Taylor' , 'The Notebook' , 5.0),\n",
    "    ('Taylor' , 'Raiders of the Lost Ark' , 1.2),\n",
    "    ('Taylor' , 'The Terminator' , 1.0),\n",
    "    ('Taylor' , 'Mrs. Doubtfire' , 1.0),\n",
    "    ('Jane' , 'Iron Man' , 4.8),\n",
    "    ('Jane' , 'Raiders of the Lost Ark' , 4.9),\n",
    "    ('Jane' , 'The Terminator' , 4.6),\n",
    "    ('Jane' , 'Anchorman' , 1.2),\n",
    "    ('Jane' , 'Pretty Woman' , 1.0),\n",
    "    ('Jane' , 'Toy Story' , 1.2)\n",
    "]), schema=['user_name', 'movie_name', 'rating'])"
   ]
  },
  {
   "cell_type": "code",
   "execution_count": 3,
   "metadata": {},
   "outputs": [
    {
     "name": "stdout",
     "output_type": "stream",
     "text": [
      "+---------+--------------------+------+\n",
      "|user_name|          movie_name|rating|\n",
      "+---------+--------------------+------+\n",
      "|   Taylor|            Twilight|   4.9|\n",
      "|   Taylor|  A Walk to Remember|   4.5|\n",
      "|   Taylor|        The Notebook|   5.0|\n",
      "|   Taylor|Raiders of the Lo...|   1.2|\n",
      "|   Taylor|      The Terminator|   1.0|\n",
      "|   Taylor|      Mrs. Doubtfire|   1.0|\n",
      "|     Jane|            Iron Man|   4.8|\n",
      "|     Jane|Raiders of the Lo...|   4.9|\n",
      "|     Jane|      The Terminator|   4.6|\n",
      "|     Jane|           Anchorman|   1.2|\n",
      "|     Jane|        Pretty Woman|   1.0|\n",
      "|     Jane|           Toy Story|   1.2|\n",
      "+---------+--------------------+------+\n",
      "\n",
      "            genres  pred_rating                 title  userId\n",
      "0            Drama         3.89   Seven Pounds (2008)  Taylor\n",
      "1            Drama         3.61      Cure, The (1995)  Taylor\n",
      "2           Comedy         3.55  Kiss Me, Guido (1997  Taylor\n",
      "3   Comedy|Romance         3.29  You've Got Mail (199  Taylor\n",
      "4   Comedy|Romance         3.27  10 Things I Hate Abo  Taylor\n",
      "5   Comedy|Drama|R         3.26  Corrina, Corrina (19  Taylor\n",
      "6         Thriller         4.96           Fear (1996)    Jane\n",
      "7   Adventure|Fant         4.85  Lord of the Rings: T    Jane\n",
      "8   Adventure|Fant         4.70  Lord of the Rings: T    Jane\n",
      "9           Action         4.55  No Holds Barred (198    Jane\n",
      "10  Action|Adventu         4.54  Lord of the Rings: T    Jane\n",
      "11  Action|Drama|W         4.30  Band of Brothers (20    Jane\n",
      "12  Action|Sci-Fi|         4.26   Transformers (2007)    Jane\n"
     ]
    }
   ],
   "source": [
    "# View TJ_ratings\n",
    "TJ_ratings.show()\n",
    "\n",
    "# Generate recommendations for users\n",
    "get_ALS_recs([\"Jane\", \"Taylor\"])"
   ]
  },
  {
   "cell_type": "code",
   "execution_count": null,
   "metadata": {},
   "outputs": [],
   "source": []
  }
 ],
 "metadata": {
  "kernelspec": {
   "display_name": "Python [conda env:playground_py36]",
   "language": "python",
   "name": "conda-env-playground_py36-py"
  },
  "language_info": {
   "codemirror_mode": {
    "name": "ipython",
    "version": 3
   },
   "file_extension": ".py",
   "mimetype": "text/x-python",
   "name": "python",
   "nbconvert_exporter": "python",
   "pygments_lexer": "ipython3",
   "version": "3.6.10"
  },
  "toc": {
   "base_numbering": 1,
   "nav_menu": {},
   "number_sections": false,
   "sideBar": false,
   "skip_h1_title": false,
   "title_cell": "Table of Contents",
   "title_sidebar": "Contents",
   "toc_cell": false,
   "toc_position": {},
   "toc_section_display": false,
   "toc_window_display": false
  }
 },
 "nbformat": 4,
 "nbformat_minor": 4
}
