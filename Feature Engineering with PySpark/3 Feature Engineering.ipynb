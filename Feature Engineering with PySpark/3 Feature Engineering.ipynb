{
 "cells": [
  {
   "cell_type": "markdown",
   "metadata": {},
   "source": [
    "# Feature Engineering\n",
    "In this chapter learn how to create new features for your machine learning model to learn from. We'll look at generating them by combining fields, extracting values from messy columns or encoding them for better results."
   ]
  },
  {
   "cell_type": "markdown",
   "metadata": {},
   "source": [
    "## Differences\n",
    "Let's explore generating features using existing ones. In the midwest of the U.S. many single family homes have extra land around them for green space. In this example you will create a new feature called 'YARD_SIZE', and then see if the new feature is correlated with our outcome variable."
   ]
  },
  {
   "cell_type": "code",
   "execution_count": 1,
   "metadata": {},
   "outputs": [
    {
     "name": "stdout",
     "output_type": "stream",
     "text": [
      "download: s3://qa.dssa.thetradedesk.com/libs/playground_py36.zip to ../libs/playground_py36.zip\n",
      "No existing SparkSession\n"
     ]
    }
   ],
   "source": [
    "!aws s3 cp s3://qa.dssa.thetradedesk.com/libs/playground_py36.zip ../libs/playground_py36.zip\n",
    "\n",
    "from utils.start_session import *"
   ]
  },
  {
   "cell_type": "code",
   "execution_count": 2,
   "metadata": {},
   "outputs": [
    {
     "name": "stdout",
     "output_type": "stream",
     "text": [
      "Corr of ACRES vs SALESCLOSEPRICE: 0.20702156459843227\n",
      "Corr of FOUNDATIONSIZE vs SALESCLOSEPRICE: 0.6159889363733617\n",
      "Corr of YARD_SIZE vs SALESCLOSEPRICE: 0.22049164610781719\n"
     ]
    }
   ],
   "source": [
    "# File Path\n",
    "file_path = \"s3a://qa.dssa.thetradedesk.com/data/datacamp/\"\n",
    "\n",
    "# Read the file into a dataframe\n",
    "df = spark.read.parquet(file_path + 'real_estate')\n",
    "\n",
    "# Lot size in square feet\n",
    "acres_to_sqfeet = 43560\n",
    "df = df.withColumn('LOT_SIZE_SQFT', df['ACRES'] * acres_to_sqfeet)\n",
    "\n",
    "# Create new column YARD_SIZE\n",
    "df = df.withColumn('YARD_SIZE', df['LOT_SIZE_SQFT'] - df['FOUNDATIONSIZE'])\n",
    "\n",
    "# Corr of ACRES vs SALESCLOSEPRICE\n",
    "print(\"Corr of ACRES vs SALESCLOSEPRICE: \" + str(df.corr('YARD_SIZE', 'SALESCLOSEPRICE')))\n",
    "# Corr of FOUNDATIONSIZE vs SALESCLOSEPRICE\n",
    "print(\"Corr of FOUNDATIONSIZE vs SALESCLOSEPRICE: \" + str(df.corr('FOUNDATIONSIZE', 'SALESCLOSEPRICE')))\n",
    "# Corr of YARD_SIZE vs SALESCLOSEPRICE\n",
    "print(\"Corr of YARD_SIZE vs SALESCLOSEPRICE: \" + str(df.corr('LOT_SIZE_SQFT', 'SALESCLOSEPRICE')))"
   ]
  },
  {
   "cell_type": "markdown",
   "metadata": {},
   "source": [
    "Not all generated features are worthwhile, many are not but its still worth doing! Most likely this is because there isn't a lot of variation in lot sizes in the neighborhoods we are looking at to create a strong feature. In addition if we look at our data, some of the homes have 0 ACRES if we really wanted to handle this correctly we could have to set the minimum YARD_SIZE to 0."
   ]
  },
  {
   "cell_type": "markdown",
   "metadata": {},
   "source": [
    "## Ratios\n",
    "Ratios are all around us. Whether it's miles per gallon or click through rate, they are everywhere. In this exercise, we'll create some ratios by dividing out pairs of columns."
   ]
  },
  {
   "cell_type": "code",
   "execution_count": 3,
   "metadata": {},
   "outputs": [
    {
     "name": "stdout",
     "output_type": "stream",
     "text": [
      "+-----------------+---------+--------------------+\n",
      "|ASSESSEDVALUATION|LISTPRICE|    ASSESSED_TO_LIST|\n",
      "+-----------------+---------+--------------------+\n",
      "|             58.0|   279900|2.072168631654162E-4|\n",
      "|            205.0|   299900|6.835611870623542E-4|\n",
      "|              0.0|   219900|                 0.0|\n",
      "|            743.0|   199900|0.003716858429214...|\n",
      "|             54.0|   224900|2.401067140951534E-4|\n",
      "+-----------------+---------+--------------------+\n",
      "only showing top 5 rows\n",
      "\n",
      "+--------------------+-----+---------+\n",
      "|         TAX_TO_LIST|TAXES|LISTPRICE|\n",
      "+--------------------+-----+---------+\n",
      "|0.011461236155769917| 3208|   279900|\n",
      "|0.012740913637879292| 3821|   299900|\n",
      "|0.013960891314233743| 3070|   219900|\n",
      "|0.012211105552776389| 2441|   199900|\n",
      "|0.011916407292129836| 2680|   224900|\n",
      "+--------------------+-----+---------+\n",
      "only showing top 5 rows\n",
      "\n",
      "+------------------+--------+----------+\n",
      "|      BED_TO_BATHS|BEDROOMS|BATHSTOTAL|\n",
      "+------------------+--------+----------+\n",
      "|1.3333333333333333|       4|         3|\n",
      "|               2.0|       4|         2|\n",
      "|               2.0|       4|         2|\n",
      "|               1.0|       2|         2|\n",
      "|               1.5|       3|         2|\n",
      "+------------------+--------+----------+\n",
      "only showing top 5 rows\n",
      "\n"
     ]
    }
   ],
   "source": [
    "# ASSESSED_TO_LIST\n",
    "df = df.withColumn('ASSESSED_TO_LIST', df['ASSESSEDVALUATION'] / df[\n",
    "    'LISTPRICE'])\n",
    "df[['ASSESSEDVALUATION', 'LISTPRICE', 'ASSESSED_TO_LIST']].show(5)\n",
    "# TAX_TO_LIST\n",
    "df = df.withColumn('TAX_TO_LIST', df['TAXES'] / df[\n",
    "    'LISTPRICE'])\n",
    "df[['TAX_TO_LIST', 'TAXES', 'LISTPRICE']].show(5)\n",
    "# BED_TO_BATHS\n",
    "df = df.withColumn('BED_TO_BATHS', df['BEDROOMS'] / df[\n",
    "    'BATHSTOTAL'])\n",
    "df[['BED_TO_BATHS', 'BEDROOMS', 'BATHSTOTAL']].show(5)"
   ]
  },
  {
   "cell_type": "markdown",
   "metadata": {},
   "source": [
    "Well done, we've created some great ratios to use in our model that people looking at homes might be considering! Often times rather than just hoping that features will be important and trying them all brute force its more worthwhile to talk to someone that knows the context to get ideas!"
   ]
  },
  {
   "cell_type": "markdown",
   "metadata": {},
   "source": [
    "## Deeper Features\n",
    "In previous exercises we showed how combining two features together can create good additional features for a predictive model. In this exercise, you will generate 'deeper' features by combining the effects of three variables into one. Then you will check to see if deeper and more complicated features always make for better predictors."
   ]
  },
  {
   "cell_type": "code",
   "execution_count": 4,
   "metadata": {},
   "outputs": [
    {
     "name": "stdout",
     "output_type": "stream",
     "text": [
      "Collecting package metadata (current_repodata.json): done\n",
      "Solving environment: done\n",
      "\n",
      "# All requested packages already installed.\n",
      "\n"
     ]
    }
   ],
   "source": [
    "# Install a conda package in the current Jupyter kernel\n",
    "import sys\n",
    "!conda install --yes --prefix {sys.prefix} seaborn\n",
    "\n",
    "from matplotlib import pyplot as plt\n",
    "import seaborn as sns"
   ]
  },
  {
   "cell_type": "code",
   "execution_count": 5,
   "metadata": {},
   "outputs": [],
   "source": [
    "from scipy import stats\n",
    "\n",
    "def r2(x, y):\n",
    "    return stats.pearsonr(x, y)[0] ** 2"
   ]
  },
  {
   "cell_type": "code",
   "execution_count": 6,
   "metadata": {},
   "outputs": [
    {
     "name": "stdout",
     "output_type": "stream",
     "text": [
      "+-------+-------------------+\n",
      "|summary| BATHS_PER_1000SQFT|\n",
      "+-------+-------------------+\n",
      "|  count|               4974|\n",
      "|   mean| 1.4314316436808154|\n",
      "| stddev| 14.165765742816745|\n",
      "|    min|0.39123630672926446|\n",
      "|    max|             1000.0|\n",
      "+-------+-------------------+\n",
      "\n"
     ]
    },
    {
     "name": "stderr",
     "output_type": "stream",
     "text": [
      "/home/hadoop/anaconda/envs/playground_py36/lib/python3.6/site-packages/seaborn/axisgrid.py:1840: UserWarning: JointGrid annotation is deprecated and will be removed in a future release.\n",
      "  warnings.warn(UserWarning(msg))\n"
     ]
    },
    {
     "data": {
      "image/png": "[encoded data removed]",
      "text/plain": [
       "<Figure size 432x432 with 3 Axes>"
      ]
     },
     "metadata": {
      "needs_background": "light"
     },
     "output_type": "display_data"
    },
    {
     "name": "stderr",
     "output_type": "stream",
     "text": [
      "/home/hadoop/anaconda/envs/playground_py36/lib/python3.6/site-packages/seaborn/axisgrid.py:1840: UserWarning: JointGrid annotation is deprecated and will be removed in a future release.\n",
      "  warnings.warn(UserWarning(msg))\n"
     ]
    },
    {
     "data": {
      "image/png": "[encoded data removed]",
      "text/plain": [
       "<Figure size 432x432 with 3 Axes>"
      ]
     },
     "metadata": {
      "needs_background": "light"
     },
     "output_type": "display_data"
    }
   ],
   "source": [
    "# Create new feature by adding two features together\n",
    "df = df.withColumn('Total_SQFT', df['SQFTBELOWGROUND'] + df['SQFTABOVEGROUND'])\n",
    "\n",
    "# Create additional new feature using previously created feature\n",
    "df = df.withColumn('BATHS_PER_1000SQFT', df['BATHSTOTAL'] / (df['Total_SQFT'] / 1000))\n",
    "df[['BATHS_PER_1000SQFT']].describe().show()\n",
    "\n",
    "# Sample and create pandas dataframe\n",
    "pandas_df = df.sample(False, 0.5, 0).toPandas()\n",
    "\n",
    "# Linear model plots\n",
    "sns.jointplot(x='Total_SQFT', y='SALESCLOSEPRICE', data=pandas_df, kind=\"reg\", stat_func=r2)\n",
    "plt.show()\n",
    "sns.jointplot(x='BATHS_PER_1000SQFT', y='SALESCLOSEPRICE', data=pandas_df, kind=\"reg\", stat_func=r2)\n",
    "plt.show()"
   ]
  },
  {
   "cell_type": "markdown",
   "metadata": {},
   "source": [
    "Using the describe() function you could have seen there was a max of 1000 bathrooms per 1000sqft, which is almost for sure an issue with our data since no sane person would need a bathroom for square foot! If you really wanted to use this feature you'd have to filter that outlier out or overwrite it to NULL with when(). After plotting the jointplots()s you should have seen that the less complicated feature Total_SQFT had a much better R**2 of .67 vs BATHS_PER_1000SQFT's .02'. Often simplier is better!"
   ]
  },
  {
   "cell_type": "markdown",
   "metadata": {},
   "source": [
    "## Time Components\n",
    "Being able to work with time components for building features is important but you can also use them to explore and understand your data further. In this exercise, you'll be looking to see if there is a pattern to which day of the week a house lists on. Please keep in mind that PySpark's week starts on Sunday, with a value of 1 and ends on Saturday, a value of 7."
   ]
  },
  {
   "cell_type": "code",
   "execution_count": 7,
   "metadata": {},
   "outputs": [
    {
     "data": {
      "image/png": "[encoded data removed]",
      "text/plain": [
       "<Figure size 432x288 with 1 Axes>"
      ]
     },
     "metadata": {
      "needs_background": "light"
     },
     "output_type": "display_data"
    }
   ],
   "source": [
    "# Import needed functions\n",
    "from pyspark.sql.functions import to_date, dayofweek, substring_index\n",
    "\n",
    "# Convert to date type\n",
    "df = df.withColumn('LISTDATE', substring_index(\"LISTDATE\", \" \", 1)) \\\n",
    "    .withColumn('LISTDATE', to_date('LISTDATE', 'M/dd/yy')) \n",
    "\n",
    "# Get the day of the week\n",
    "df = df.withColumn('List_Day_of_Week', dayofweek('LISTDATE'))\n",
    "\n",
    "# Sample and convert to pandas dataframe\n",
    "sample_df = df.sample(False, 0.5, 42).toPandas()\n",
    "\n",
    "# Plot count plot of of day of week\n",
    "sns.countplot(x=\"List_Day_of_Week\", data=sample_df)\n",
    "plt.show()"
   ]
  },
  {
   "cell_type": "markdown",
   "metadata": {},
   "source": [
    "Fantastic, using these time components and some visualization techniques from earlier we can see its pretty unlikely to list a home on the weekend (Values 1 and 7)."
   ]
  },
  {
   "cell_type": "markdown",
   "metadata": {},
   "source": [
    "## Joining On Time Components\n",
    "Often times you will use date components to join in other sets of information. However, in this example, we need to use data that would have been available to those considering buying a house. This means we will need to use the previous year's reporting data for our analysis."
   ]
  },
  {
   "cell_type": "code",
   "execution_count": 8,
   "metadata": {},
   "outputs": [
    {
     "name": "stdout",
     "output_type": "stream",
     "text": [
      "+---------------+\n",
      "|MedianHomeValue|\n",
      "+---------------+\n",
      "|         291000|\n",
      "|         291000|\n",
      "|         291000|\n",
      "|         291000|\n",
      "|         291000|\n",
      "+---------------+\n",
      "only showing top 5 rows\n",
      "\n"
     ]
    }
   ],
   "source": [
    "from pyspark.sql.functions import year\n",
    "\n",
    "# Initialize dataframes\n",
    "price_df = spark.createDataFrame(sc.parallelize([\n",
    "    ('LELM - Lake Elmo' , 401000 , 2016), \n",
    "    ('MAPW - Maplewood' , 193000 , 2016),\n",
    "    ('STP - Saint Paul' , 172000 , 2016),\n",
    "    ('WB - Woodbury' , 291000 , 2016),\n",
    "    ('OAKD - Oakdale' , 210000 , 2016),\n",
    "    ('LELM - Lake Elmo' , 385000 , 2015),\n",
    "    ('MAPW - Maplewood' , 187000 , 2015),\n",
    "    ('STP - Saint Paul' , 162000 , 2015),\n",
    "    ('WB - Woodbury' , 277000 , 2015),\n",
    "    ('OAKD - Oakdale' , 192000 , 2015)\n",
    "]), schema=['CITY', 'MedianHomeValue', 'Year'])\n",
    "\n",
    "\n",
    "# Create year column\n",
    "df = df.withColumn('list_year', year('LISTDATE'))\n",
    "\n",
    "# Adjust year to match\n",
    "df = df.withColumn('report_year', (df['list_year'] - 1))\n",
    "\n",
    "# Create join condition\n",
    "condition = [df['CITY'] == price_df['CITY'], df['report_year'] == price_df['Year']]\n",
    "\n",
    "# Join the dataframes together\n",
    "df = df.join(price_df, on=condition, how='left')\n",
    "# Inspect that new columns are available\n",
    "df[['MedianHomeValue']].show(5)"
   ]
  },
  {
   "cell_type": "markdown",
   "metadata": {},
   "source": [
    "Great work. You can see how easy it is to join data that is reported out at different intervals to use in your data. You also can see how easy it is to use data that would not have been available at the time of someone buying a home; a form of data leakage."
   ]
  },
  {
   "cell_type": "markdown",
   "metadata": {},
   "source": [
    "## Date Math\n",
    "In this example, we'll look at verifying the frequency of our data. The Mortgage dataset is supposed to have weekly data but let's make sure by lagging the report date and then taking the difference of the dates.\n",
    "\n",
    "Recall that to create a lagged feature we will need to create a window(). window() allows you to return a value for each record based off some calculation against a group of records, in this case, the previous period's mortgage rate."
   ]
  },
  {
   "cell_type": "code",
   "execution_count": 9,
   "metadata": {},
   "outputs": [
    {
     "name": "stdout",
     "output_type": "stream",
     "text": [
      "+-------------------+\n",
      "|Days_Between_Report|\n",
      "+-------------------+\n",
      "|               null|\n",
      "|                  7|\n",
      "|                  6|\n",
      "|                  8|\n",
      "+-------------------+\n",
      "\n"
     ]
    }
   ],
   "source": [
    "from pyspark.sql.types import *\n",
    "from pyspark.sql.functions import lag, datediff, to_date\n",
    "from pyspark.sql.window import Window\n",
    "\n",
    "# Load in data\n",
    "mort_df = spark.read \\\n",
    "    .schema(StructType([StructField('DATE', StringType(), True), StructField('MORTGAGE30US', DoubleType(), True)])) \\\n",
    "    .csv(file_path + 'mortgage', header=True) \\\n",
    "    .repartition(500)\n",
    "\n",
    "# Cast data type\n",
    "mort_df = mort_df.withColumn('DATE', to_date('DATE'))\n",
    "\n",
    "# Create window\n",
    "w = Window().orderBy(mort_df['DATE'])\n",
    "# Create lag column\n",
    "mort_df = mort_df.withColumn('DATE-1', lag('DATE', count=1).over(w))\n",
    "\n",
    "# Calculate difference between date columns\n",
    "mort_df = mort_df.withColumn('Days_Between_Report', datediff('DATE', 'DATE-1'))\n",
    "# Print results\n",
    "mort_df.select('Days_Between_Report').distinct().show(5)"
   ]
  },
  {
   "cell_type": "markdown",
   "metadata": {},
   "source": [
    "## Extracting Text to New Features\n",
    "Garages are an important consideration for houses in Minnesota where most people own a car and the snow is annoying to clear off a car parked outside. The type of garage is also important, can you get to your car without braving the cold or not? Let's look at creating a feature has_attached_garage that captures whether the garage is attached to the house or not."
   ]
  },
  {
   "cell_type": "code",
   "execution_count": 10,
   "metadata": {},
   "outputs": [
    {
     "name": "stdout",
     "output_type": "stream",
     "text": [
      "+---------------------------------------------------+-------------------+\n",
      "|                                  GARAGEDESCRIPTION|has_attached_garage|\n",
      "+---------------------------------------------------+-------------------+\n",
      "|                                    Attached Garage|                  1|\n",
      "|                                    Detached Garage|                  0|\n",
      "|                Attached Garage, Driveway - Asphalt|                  1|\n",
      "|                                    Detached Garage|                  0|\n",
      "|Detached Garage, Uncovered/Open, Garage Door Opener|                  0|\n",
      "+---------------------------------------------------+-------------------+\n",
      "only showing top 5 rows\n",
      "\n"
     ]
    }
   ],
   "source": [
    "# Import needed functions\n",
    "from pyspark.sql.functions import when\n",
    "\n",
    "# Read the file into a dataframe\n",
    "df = spark.read.parquet(file_path + 'real_estate')\n",
    "\n",
    "# Create boolean conditions for string matches\n",
    "has_attached_garage = df['GARAGEDESCRIPTION'].like('%Attached Garage%')\n",
    "has_detached_garage = df['GARAGEDESCRIPTION'].like('%Detached Garage%')\n",
    "\n",
    "# Conditional value assignment \n",
    "df = df.withColumn('has_attached_garage', (when(has_attached_garage, 1)\n",
    "                                          .when(has_detached_garage, 0)\n",
    "                                          .otherwise(None)))\n",
    "\n",
    "# Inspect results\n",
    "df[['GARAGEDESCRIPTION', 'has_attached_garage']].show(5, truncate=100)"
   ]
  },
  {
   "cell_type": "markdown",
   "metadata": {},
   "source": [
    "## Splitting & Exploding\n",
    "Being able to take a compound field like GARAGEDESCRIPTION and massaging it into something useful is an involved process. It's helpful to understand early what value you might gain out of expanding it. In this example, we will convert our string to a list-like array, explode it and then inspect the unique values."
   ]
  },
  {
   "cell_type": "code",
   "execution_count": 11,
   "metadata": {},
   "outputs": [
    {
     "name": "stdout",
     "output_type": "stream",
     "text": [
      "+----------------------------+\n",
      "|              ex_garage_list|\n",
      "+----------------------------+\n",
      "|           Driveway - Gravel|\n",
      "|          Underground Garage|\n",
      "|                       Other|\n",
      "|                    Assigned|\n",
      "|   No Int Access to Dwelling|\n",
      "|       Contract Pkg Required|\n",
      "|                     Secured|\n",
      "|          Driveway - Asphalt|\n",
      "|             Attached Garage|\n",
      "|                        None|\n",
      "| More Parking Onsite for Fee|\n",
      "|      On-Street Parking Only|\n",
      "|          Garage Door Opener|\n",
      "|           Driveway - Shared|\n",
      "|                  Unassigned|\n",
      "|                  Units Vary|\n",
      "|                      Tandem|\n",
      "|              Uncovered/Open|\n",
      "|             Detached Garage|\n",
      "|                   Tuckunder|\n",
      "|       Valet Parking for Fee|\n",
      "|    Driveway - Other Surface|\n",
      "|         Driveway - Concrete|\n",
      "|               Heated Garage|\n",
      "|            Insulated Garage|\n",
      "|More Parking Offsite for Fee|\n",
      "|                     Carport|\n",
      "|                     Covered|\n",
      "+----------------------------+\n",
      "\n"
     ]
    }
   ],
   "source": [
    "# Import needed functions\n",
    "from pyspark.sql.functions import split, explode\n",
    "\n",
    "# Convert string to list-like array\n",
    "df = df.withColumn('garage_list', split(df['GARAGEDESCRIPTION'], ', '))\n",
    "\n",
    "# Explode the values into new records\n",
    "ex_df = df.withColumn('ex_garage_list', explode(df['garage_list']))\n",
    "\n",
    "# Inspect the values\n",
    "ex_df[['ex_garage_list']].distinct().show(100, truncate=50)"
   ]
  },
  {
   "cell_type": "markdown",
   "metadata": {},
   "source": [
    "Great, looking at the values, it looks like there is a decent amount of values here but not hundreds. If you have too many, when you pivot them it can make your dataset a mess."
   ]
  },
  {
   "cell_type": "markdown",
   "metadata": {},
   "source": [
    "## Pivot & Join\n",
    "Being able to explode and pivot a compound field is great, but you are left with a dataframe of only those pivoted values. To really be valuable you'll need to rejoin it to the original dataset! After joining the datasets we will have a lot of NULL values for the newly created columns since we know the context of how they were created we can safely fill them in with zero as either the new has an attribute or it doesn't."
   ]
  },
  {
   "cell_type": "code",
   "execution_count": 12,
   "metadata": {},
   "outputs": [],
   "source": [
    "from pyspark.sql.functions import coalesce, first, lit\n",
    "\n",
    "# Create a dummy column of constant value\n",
    "ex_df = ex_df.withColumn('constant_val', lit(1))\n",
    "\n",
    "# Pivot \n",
    "piv_df = ex_df.groupBy('NO').pivot('ex_garage_list').agg(coalesce(first('constant_val')))\n",
    "\n",
    "# Join the dataframes together and fill null\n",
    "joined_df = df.join(piv_df, on='NO', how='left')\n",
    "\n",
    "# Columns to zero fill\n",
    "zfill_cols = piv_df.columns\n",
    "\n",
    "# Zero fill the pivoted values\n",
    "zfilled_df = joined_df.fillna(0, subset=zfill_cols)"
   ]
  },
  {
   "cell_type": "markdown",
   "metadata": {},
   "source": [
    "Fantastic, you now have a bunch of boolean columns created from the single compound field. Hopefully some of these will be valuable in our model!"
   ]
  },
  {
   "cell_type": "markdown",
   "metadata": {},
   "source": [
    "## Binarizing Day of Week\n",
    "In a previous video, we saw that it was very unlikely for a home to list on the weekend. Let's create a new field that says if the house is listed for sale on a weekday or not. In this example there is a field called List_Day_of_Week that has Monday is labeled 1.0 and Sunday is 7.0. Let's convert this to a binary field with weekday being 0 and weekend being 1. We can use the pyspark feature transformer Binarizer to do this."
   ]
  },
  {
   "cell_type": "code",
   "execution_count": 13,
   "metadata": {},
   "outputs": [
    {
     "name": "stdout",
     "output_type": "stream",
     "text": [
      "+----------------+-----------------+\n",
      "|List_Day_of_Week|Listed_On_Weekend|\n",
      "+----------------+-----------------+\n",
      "|             2.0|              0.0|\n",
      "|             6.0|              1.0|\n",
      "|             5.0|              0.0|\n",
      "|             7.0|              1.0|\n",
      "|             6.0|              1.0|\n",
      "+----------------+-----------------+\n",
      "only showing top 5 rows\n",
      "\n"
     ]
    }
   ],
   "source": [
    "# Import transformer\n",
    "from pyspark.ml.feature import Binarizer\n",
    "\n",
    "# Convert to date type\n",
    "df = df.withColumn('LISTDATE', substring_index(\"LISTDATE\", \" \", 1)) \\\n",
    "    .withColumn('LISTDATE', to_date('LISTDATE', 'M/dd/yy')) \\\n",
    "    .withColumn('List_Day_of_Week', dayofweek('LISTDATE')) \n",
    "\n",
    "df = df.withColumn('List_Day_of_Week', df['List_Day_of_Week'].cast('double'))\n",
    "\n",
    "# Create the transformer\n",
    "binarizer = Binarizer(threshold=5.0, inputCol='List_Day_of_Week', outputCol='Listed_On_Weekend')\n",
    "\n",
    "# Apply the transformation to df\n",
    "df = binarizer.transform(df)\n",
    "\n",
    "# Verify transformation\n",
    "df[['List_Day_of_Week', 'Listed_On_Weekend']].show(5)"
   ]
  },
  {
   "cell_type": "markdown",
   "metadata": {},
   "source": [
    "Well done, transforming features with binarize is helpful in creating more powerful features, in both explainability of your model and performance."
   ]
  },
  {
   "cell_type": "markdown",
   "metadata": {},
   "source": [
    "## Bucketing\n",
    "If you are a homeowner its very important if a house has 1, 2, 3 or 4 bedrooms. But like bathrooms, once you hit a certain point you don't really care whether the house has 7 or 8. This example we'll look at how to figure out where are some good value points to bucket."
   ]
  },
  {
   "cell_type": "code",
   "execution_count": 14,
   "metadata": {},
   "outputs": [
    {
     "data": {
      "image/png": "[encoded data removed]",
      "text/plain": [
       "<Figure size 432x288 with 1 Axes>"
      ]
     },
     "metadata": {
      "needs_background": "light"
     },
     "output_type": "display_data"
    },
    {
     "name": "stdout",
     "output_type": "stream",
     "text": [
      "+--------+--------+\n",
      "|BEDROOMS|bedrooms|\n",
      "+--------+--------+\n",
      "|     4.0|     4.0|\n",
      "|     4.0|     4.0|\n",
      "|     4.0|     4.0|\n",
      "|     2.0|     2.0|\n",
      "|     3.0|     3.0|\n",
      "+--------+--------+\n",
      "only showing top 5 rows\n",
      "\n"
     ]
    }
   ],
   "source": [
    "from pyspark.ml.feature import Bucketizer\n",
    "\n",
    "df = df.withColumn('BEDROOMS', df['BEDROOMS'].cast('bigint'))\n",
    "\n",
    "# Sample and convert to pandas dataframe\n",
    "sample_df = df.select(\"BEDROOMS\").sample(False, 0.5, 42).toPandas()\n",
    "\n",
    "# Plot distribution of sample_df\n",
    "sns.distplot(sample_df, axlabel='BEDROOMS')\n",
    "plt.show()\n",
    "\n",
    "# Create the bucket splits and bucketizer\n",
    "splits = [0, 1, 2, 3, 4, 5, float('Inf')]\n",
    "buck = Bucketizer(splits=splits, inputCol='BEDROOMS', outputCol='bedrooms')\n",
    "\n",
    "# Apply the transformation to df: df_bucket\n",
    "df_bucket = buck.transform(df)\n",
    "\n",
    "# Display results\n",
    "df_bucket[['BEDROOMS', 'bedrooms']].show(5)"
   ]
  },
  {
   "cell_type": "markdown",
   "metadata": {},
   "source": [
    "Being able to inspect a distribution plot is important if you are considering bucketing feature values together. Here we saw that after 5 bathrooms it was exceedingly rare, so we could combine either effects together in a 5+ value."
   ]
  },
  {
   "cell_type": "markdown",
   "metadata": {},
   "source": [
    "## One Hot Encoding\n",
    "In the United States where you live determines which schools your kids can attend. Therefore it's understandable that many people care deeply about which school districts their future home will be in. While the school districts are numbered in SCHOOLDISTRICTNUMBER they are really categorical. Meaning that summing or averaging these values has no apparent meaning. Therefore in this example we will convert SCHOOLDISTRICTNUMBER from a categorial variable into a numeric vector to use in our machine learning model later."
   ]
  },
  {
   "cell_type": "code",
   "execution_count": 15,
   "metadata": {},
   "outputs": [
    {
     "name": "stdout",
     "output_type": "stream",
     "text": [
      "+-----------------------------+------------+-------------+\n",
      "|         SCHOOLDISTRICTNUMBER|School_Index|   School_Vec|\n",
      "+-----------------------------+------------+-------------+\n",
      "|               625 - St. Paul|         0.0|(7,[0],[1.0])|\n",
      "|               625 - St. Paul|         0.0|(7,[0],[1.0])|\n",
      "|622 - North St Paul-Maplewood|         1.0|(7,[1],[1.0])|\n",
      "|622 - North St Paul-Maplewood|         1.0|(7,[1],[1.0])|\n",
      "|               625 - St. Paul|         0.0|(7,[0],[1.0])|\n",
      "+-----------------------------+------------+-------------+\n",
      "only showing top 5 rows\n",
      "\n"
     ]
    }
   ],
   "source": [
    "from pyspark.ml.feature import OneHotEncoder, StringIndexer\n",
    "\n",
    "# Map strings to numbers with string indexer\n",
    "string_indexer = StringIndexer(inputCol='SCHOOLDISTRICTNUMBER', outputCol='School_Index')\n",
    "indexed_df = string_indexer.fit(df).transform(df)\n",
    "\n",
    "# Onehot encode indexed values\n",
    "encoder = OneHotEncoder(inputCol='School_Index', outputCol='School_Vec')\n",
    "encoded_df = encoder.transform(indexed_df)\n",
    "\n",
    "# Inspect the transformation steps\n",
    "encoded_df[['SCHOOLDISTRICTNUMBER', 'School_Index', 'School_Vec']].show(5, truncate=100)"
   ]
  },
  {
   "cell_type": "markdown",
   "metadata": {},
   "source": [
    "Well done! One Hot Encoding is a great way to handle categorial variables. You may have noticed that the implementation in PySpark is different than Pandas get_dummies() as it puts everything into a single column of type vector rather than a new column for each value. It's also different from sklearn's OneHotEncoder in that the last categorical value is captured by a vector of all zeros."
   ]
  }
 ],
 "metadata": {
  "kernelspec": {
   "display_name": "Python [conda env:playground_py36]",
   "language": "python",
   "name": "conda-env-playground_py36-py"
  },
  "language_info": {
   "codemirror_mode": {
    "name": "ipython",
    "version": 3
   },
   "file_extension": ".py",
   "mimetype": "text/x-python",
   "name": "python",
   "nbconvert_exporter": "python",
   "pygments_lexer": "ipython3",
   "version": "3.6.10"
  },
  "toc": {
   "base_numbering": 1,
   "nav_menu": {},
   "number_sections": false,
   "sideBar": false,
   "skip_h1_title": false,
   "title_cell": "Table of Contents",
   "title_sidebar": "Contents",
   "toc_cell": false,
   "toc_position": {},
   "toc_section_display": false,
   "toc_window_display": false
  }
 },
 "nbformat": 4,
 "nbformat_minor": 4
}
